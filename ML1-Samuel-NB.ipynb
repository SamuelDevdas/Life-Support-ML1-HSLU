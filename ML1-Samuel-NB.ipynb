{
 "cells": [
  {
   "cell_type": "markdown",
   "metadata": {},
   "source": [
    "### Data Loading and Inspection"
   ]
  },
  {
   "cell_type": "code",
   "execution_count": 1,
   "metadata": {
    "dotnet_interactive": {
     "language": "csharp"
    },
    "notebookRunGroups": {
     "groupValue": ""
    },
    "polyglot_notebook": {
     "kernelName": "csharp"
    },
    "vscode": {
     "languageId": "r"
    }
   },
   "outputs": [],
   "source": [
    "# Load dataset:\n",
    "df_support <- read.csv(\"support2.csv\", header = TRUE, sep = \",\")\n",
    "\n",
    "df_description <- read.csv(\"support-variables-description.csv\", header = TRUE, sep = \",\")\n"
   ]
  },
  {
   "cell_type": "code",
   "execution_count": 2,
   "metadata": {
    "vscode": {
     "languageId": "r"
    }
   },
   "outputs": [],
   "source": [
    "# df_description\n"
   ]
  },
  {
   "cell_type": "code",
   "execution_count": 3,
   "metadata": {
    "vscode": {
     "languageId": "r"
    }
   },
   "outputs": [
    {
     "data": {
      "text/html": [
       "<table>\n",
       "<thead><tr><th scope=col>age</th><th scope=col>death</th><th scope=col>sex</th><th scope=col>hospdead</th><th scope=col>slos</th><th scope=col>d.time</th><th scope=col>dzgroup</th><th scope=col>dzclass</th><th scope=col>num.co</th><th scope=col>edu</th><th scope=col>...</th><th scope=col>crea</th><th scope=col>sod</th><th scope=col>ph</th><th scope=col>glucose</th><th scope=col>bun</th><th scope=col>urine</th><th scope=col>adlp</th><th scope=col>adls</th><th scope=col>sfdm2</th><th scope=col>adlsc</th></tr></thead>\n",
       "<tbody>\n",
       "\t<tr><td>62.84998           </td><td>0                  </td><td>male               </td><td>0                  </td><td> 5                 </td><td>2029               </td><td>Lung Cancer        </td><td>Cancer             </td><td>0                  </td><td>11                 </td><td>...                </td><td>1.1999512          </td><td>141                </td><td>7.459961           </td><td>NA                 </td><td>NA                 </td><td>NA                 </td><td> 7                 </td><td>7                  </td><td>                   </td><td>7                  </td></tr>\n",
       "\t<tr><td>60.33899                                                      </td><td>1                                                             </td><td>female                                                        </td><td>1                                                             </td><td> 4                                                            </td><td><span style=white-space:pre-wrap>   4</span>                  </td><td><span style=white-space:pre-wrap>Cirrhosis        </span>     </td><td>COPD/CHF/Cirrhosis                                            </td><td>2                                                             </td><td>12                                                            </td><td>...                                                           </td><td>5.5000000                                                     </td><td>132                                                           </td><td>7.250000                                                      </td><td>NA                                                            </td><td>NA                                                            </td><td>NA                                                            </td><td>NA                                                            </td><td>1                                                             </td><td><span style=white-space:pre-wrap>&lt;2 mo. follow-up   </span></td><td>1                                                             </td></tr>\n",
       "\t<tr><td>52.74698                                                      </td><td>1                                                             </td><td>female                                                        </td><td>0                                                             </td><td>17                                                            </td><td><span style=white-space:pre-wrap>  47</span>                  </td><td><span style=white-space:pre-wrap>Cirrhosis        </span>     </td><td>COPD/CHF/Cirrhosis                                            </td><td>2                                                             </td><td>12                                                            </td><td>...                                                           </td><td>2.0000000                                                     </td><td>134                                                           </td><td>7.459961                                                      </td><td>NA                                                            </td><td>NA                                                            </td><td>NA                                                            </td><td> 1                                                            </td><td>0                                                             </td><td><span style=white-space:pre-wrap>&lt;2 mo. follow-up   </span></td><td>0                                                             </td></tr>\n",
       "\t<tr><td>42.38498           </td><td>1                  </td><td>female             </td><td>0                  </td><td> 3                 </td><td> 133               </td><td>Lung Cancer        </td><td>Cancer             </td><td>2                  </td><td>11                 </td><td>...                </td><td>0.7999268          </td><td>139                </td><td>      NA           </td><td>NA                 </td><td>NA                 </td><td>NA                 </td><td> 0                 </td><td>0                  </td><td>no(M2 and SIP pres)</td><td>0                  </td></tr>\n",
       "\t<tr><td>79.88495           </td><td>0                  </td><td>female             </td><td>0                  </td><td>16                 </td><td>2029               </td><td>ARF/MOSF w/Sepsis  </td><td>ARF/MOSF           </td><td>1                  </td><td>NA                 </td><td>...                </td><td>0.7999268          </td><td>143                </td><td>7.509766           </td><td>NA                 </td><td>NA                 </td><td>NA                 </td><td>NA                 </td><td>2                  </td><td>no(M2 and SIP pres)</td><td>2                  </td></tr>\n",
       "\t<tr><td>93.01599                                                      </td><td>1                                                             </td><td><span style=white-space:pre-wrap>male  </span>                </td><td>1                                                             </td><td> 4                                                            </td><td><span style=white-space:pre-wrap>   4</span>                  </td><td><span style=white-space:pre-wrap>Coma             </span>     </td><td><span style=white-space:pre-wrap>Coma              </span>    </td><td>1                                                             </td><td>14                                                            </td><td>...                                                           </td><td>0.6999512                                                     </td><td>140                                                           </td><td>7.659180                                                      </td><td>NA                                                            </td><td>NA                                                            </td><td>NA                                                            </td><td>NA                                                            </td><td>1                                                             </td><td><span style=white-space:pre-wrap>&lt;2 mo. follow-up   </span></td><td>1                                                             </td></tr>\n",
       "</tbody>\n",
       "</table>\n"
      ],
      "text/latex": [
       "\\begin{tabular}{r|lllllllllllllllllllllllllllllllllllllllllllllll}\n",
       " age & death & sex & hospdead & slos & d.time & dzgroup & dzclass & num.co & edu & ... & crea & sod & ph & glucose & bun & urine & adlp & adls & sfdm2 & adlsc\\\\\n",
       "\\hline\n",
       "\t 62.84998            & 0                   & male                & 0                   &  5                  & 2029                & Lung Cancer         & Cancer              & 0                   & 11                  & ...                 & 1.1999512           & 141                 & 7.459961            & NA                  & NA                  & NA                  &  7                  & 7                   &                     & 7                  \\\\\n",
       "\t 60.33899            & 1                   & female              & 1                   &  4                  &    4                & Cirrhosis           & COPD/CHF/Cirrhosis  & 2                   & 12                  & ...                 & 5.5000000           & 132                 & 7.250000            & NA                  & NA                  & NA                  & NA                  & 1                   & <2 mo. follow-up    & 1                  \\\\\n",
       "\t 52.74698            & 1                   & female              & 0                   & 17                  &   47                & Cirrhosis           & COPD/CHF/Cirrhosis  & 2                   & 12                  & ...                 & 2.0000000           & 134                 & 7.459961            & NA                  & NA                  & NA                  &  1                  & 0                   & <2 mo. follow-up    & 0                  \\\\\n",
       "\t 42.38498            & 1                   & female              & 0                   &  3                  &  133                & Lung Cancer         & Cancer              & 2                   & 11                  & ...                 & 0.7999268           & 139                 &       NA            & NA                  & NA                  & NA                  &  0                  & 0                   & no(M2 and SIP pres) & 0                  \\\\\n",
       "\t 79.88495            & 0                   & female              & 0                   & 16                  & 2029                & ARF/MOSF w/Sepsis   & ARF/MOSF            & 1                   & NA                  & ...                 & 0.7999268           & 143                 & 7.509766            & NA                  & NA                  & NA                  & NA                  & 2                   & no(M2 and SIP pres) & 2                  \\\\\n",
       "\t 93.01599            & 1                   & male                & 1                   &  4                  &    4                & Coma                & Coma                & 1                   & 14                  & ...                 & 0.6999512           & 140                 & 7.659180            & NA                  & NA                  & NA                  & NA                  & 1                   & <2 mo. follow-up    & 1                  \\\\\n",
       "\\end{tabular}\n"
      ],
      "text/markdown": [
       "\n",
       "| age | death | sex | hospdead | slos | d.time | dzgroup | dzclass | num.co | edu | ... | crea | sod | ph | glucose | bun | urine | adlp | adls | sfdm2 | adlsc |\n",
       "|---|---|---|---|---|---|---|---|---|---|---|---|---|---|---|---|---|---|---|---|---|\n",
       "| 62.84998            | 0                   | male                | 0                   |  5                  | 2029                | Lung Cancer         | Cancer              | 0                   | 11                  | ...                 | 1.1999512           | 141                 | 7.459961            | NA                  | NA                  | NA                  |  7                  | 7                   |                     | 7                   |\n",
       "| 60.33899            | 1                   | female              | 1                   |  4                  |    4                | Cirrhosis           | COPD/CHF/Cirrhosis  | 2                   | 12                  | ...                 | 5.5000000           | 132                 | 7.250000            | NA                  | NA                  | NA                  | NA                  | 1                   | <2 mo. follow-up    | 1                   |\n",
       "| 52.74698            | 1                   | female              | 0                   | 17                  |   47                | Cirrhosis           | COPD/CHF/Cirrhosis  | 2                   | 12                  | ...                 | 2.0000000           | 134                 | 7.459961            | NA                  | NA                  | NA                  |  1                  | 0                   | <2 mo. follow-up    | 0                   |\n",
       "| 42.38498            | 1                   | female              | 0                   |  3                  |  133                | Lung Cancer         | Cancer              | 2                   | 11                  | ...                 | 0.7999268           | 139                 |       NA            | NA                  | NA                  | NA                  |  0                  | 0                   | no(M2 and SIP pres) | 0                   |\n",
       "| 79.88495            | 0                   | female              | 0                   | 16                  | 2029                | ARF/MOSF w/Sepsis   | ARF/MOSF            | 1                   | NA                  | ...                 | 0.7999268           | 143                 | 7.509766            | NA                  | NA                  | NA                  | NA                  | 2                   | no(M2 and SIP pres) | 2                   |\n",
       "| 93.01599            | 1                   | male                | 1                   |  4                  |    4                | Coma                | Coma                | 1                   | 14                  | ...                 | 0.6999512           | 140                 | 7.659180            | NA                  | NA                  | NA                  | NA                  | 1                   | <2 mo. follow-up    | 1                   |\n",
       "\n"
      ],
      "text/plain": [
       "  age      death sex    hospdead slos d.time dzgroup          \n",
       "1 62.84998 0     male   0         5   2029   Lung Cancer      \n",
       "2 60.33899 1     female 1         4      4   Cirrhosis        \n",
       "3 52.74698 1     female 0        17     47   Cirrhosis        \n",
       "4 42.38498 1     female 0         3    133   Lung Cancer      \n",
       "5 79.88495 0     female 0        16   2029   ARF/MOSF w/Sepsis\n",
       "6 93.01599 1     male   1         4      4   Coma             \n",
       "  dzclass            num.co edu ... crea      sod ph       glucose bun urine\n",
       "1 Cancer             0      11  ... 1.1999512 141 7.459961 NA      NA  NA   \n",
       "2 COPD/CHF/Cirrhosis 2      12  ... 5.5000000 132 7.250000 NA      NA  NA   \n",
       "3 COPD/CHF/Cirrhosis 2      12  ... 2.0000000 134 7.459961 NA      NA  NA   \n",
       "4 Cancer             2      11  ... 0.7999268 139       NA NA      NA  NA   \n",
       "5 ARF/MOSF           1      NA  ... 0.7999268 143 7.509766 NA      NA  NA   \n",
       "6 Coma               1      14  ... 0.6999512 140 7.659180 NA      NA  NA   \n",
       "  adlp adls sfdm2               adlsc\n",
       "1  7   7                        7    \n",
       "2 NA   1    <2 mo. follow-up    1    \n",
       "3  1   0    <2 mo. follow-up    0    \n",
       "4  0   0    no(M2 and SIP pres) 0    \n",
       "5 NA   2    no(M2 and SIP pres) 2    \n",
       "6 NA   1    <2 mo. follow-up    1    "
      ]
     },
     "metadata": {},
     "output_type": "display_data"
    }
   ],
   "source": [
    "# Inspect dataset\n",
    "head(df_support)\n"
   ]
  },
  {
   "cell_type": "code",
   "execution_count": 4,
   "metadata": {
    "vscode": {
     "languageId": "r"
    }
   },
   "outputs": [
    {
     "name": "stdout",
     "output_type": "stream",
     "text": [
      "'data.frame':\t9105 obs. of  47 variables:\n",
      " $ age     : num  62.8 60.3 52.7 42.4 79.9 ...\n",
      " $ death   : int  0 1 1 1 0 1 1 1 1 1 ...\n",
      " $ sex     : Factor w/ 2 levels \"female\",\"male\": 2 1 1 1 1 2 2 2 2 1 ...\n",
      " $ hospdead: int  0 1 0 0 0 1 0 0 0 0 ...\n",
      " $ slos    : int  5 4 17 3 16 4 9 7 12 8 ...\n",
      " $ d.time  : int  2029 4 47 133 2029 4 659 142 63 370 ...\n",
      " $ dzgroup : Factor w/ 8 levels \"ARF/MOSF w/Sepsis\",..: 7 3 3 7 1 5 2 2 7 4 ...\n",
      " $ dzclass : Factor w/ 4 levels \"ARF/MOSF\",\"Cancer\",..: 2 4 4 2 1 3 4 4 2 2 ...\n",
      " $ num.co  : int  0 2 2 2 1 1 1 3 2 0 ...\n",
      " $ edu     : int  11 12 12 11 NA 14 14 NA 12 11 ...\n",
      " $ income  : Factor w/ 5 levels \"\",\"$11-$25k\",..: 2 2 5 5 1 1 3 1 1 3 ...\n",
      " $ scoma   : int  0 44 0 0 26 55 0 26 26 0 ...\n",
      " $ charges : num  9715 34496 41094 3075 50127 ...\n",
      " $ totcst  : num  NA NA NA NA NA NA NA NA NA NA ...\n",
      " $ totmcst : num  NA NA NA NA NA NA NA NA NA NA ...\n",
      " $ avtisst : num  7 29 13 7 18.7 ...\n",
      " $ race    : Factor w/ 6 levels \"\",\"asian\",\"black\",..: 5 6 6 6 6 6 6 6 3 4 ...\n",
      " $ sps     : num  33.9 52.7 20.5 20.1 23.5 ...\n",
      " $ aps     : int  20 74 45 19 30 27 46 53 17 9 ...\n",
      " $ surv2m  : num  0.263 0.001 0.791 0.699 0.635 ...\n",
      " $ surv6m  : num  0.037 0 0.665 0.412 0.533 ...\n",
      " $ hday    : int  1 3 4 1 3 1 1 1 1 1 ...\n",
      " $ diabetes: int  0 0 0 0 0 0 0 1 0 0 ...\n",
      " $ dementia: int  0 0 0 0 0 0 0 0 1 0 ...\n",
      " $ ca      : Factor w/ 3 levels \"metastatic\",\"no\",..: 1 2 2 1 2 2 2 2 1 1 ...\n",
      " $ prg2m   : num  0.5 0 0.75 0.9 0.9 ...\n",
      " $ prg6m   : num  0.25 0 0.5 0.5 0.9 ...\n",
      " $ dnr     : Factor w/ 4 levels \"\",\"dnr after sadm\",..: 4 1 4 4 4 4 4 4 2 4 ...\n",
      " $ dnrday  : int  5 NA 17 3 16 4 9 7 2 8 ...\n",
      " $ meanbp  : num  97 43 70 75 59 110 78 72 97 84 ...\n",
      " $ wblc    : num  6 17.1 8.5 9.1 13.5 ...\n",
      " $ hrt     : num  69 112 88 88 112 101 120 100 56 94 ...\n",
      " $ resp    : int  22 34 28 32 20 44 28 26 20 20 ...\n",
      " $ temp    : num  36 34.6 37.4 35 37.9 ...\n",
      " $ pafi    : num  388 98 232 NA 173 ...\n",
      " $ alb     : num  1.8 NA NA NA NA ...\n",
      " $ bili    : num  0.2 NA 2.2 NA NA ...\n",
      " $ crea    : num  1.2 5.5 2 0.8 0.8 ...\n",
      " $ sod     : int  141 132 134 139 143 140 132 139 143 139 ...\n",
      " $ ph      : num  7.46 7.25 7.46 NA 7.51 ...\n",
      " $ glucose : num  NA NA NA NA NA NA NA NA NA NA ...\n",
      " $ bun     : num  NA NA NA NA NA NA NA NA NA NA ...\n",
      " $ urine   : num  NA NA NA NA NA NA NA NA NA NA ...\n",
      " $ adlp    : int  7 NA 1 0 NA NA 0 NA NA 0 ...\n",
      " $ adls    : int  7 1 0 0 2 1 1 0 7 NA ...\n",
      " $ sfdm2   : Factor w/ 6 levels \"\",\"<2 mo. follow-up\",..: 1 2 2 5 5 2 5 1 1 1 ...\n",
      " $ adlsc   : num  7 1 0 0 2 ...\n"
     ]
    },
    {
     "data": {
      "text/html": [
       "<ol class=list-inline>\n",
       "\t<li>9105</li>\n",
       "\t<li>47</li>\n",
       "</ol>\n"
      ],
      "text/latex": [
       "\\begin{enumerate*}\n",
       "\\item 9105\n",
       "\\item 47\n",
       "\\end{enumerate*}\n"
      ],
      "text/markdown": [
       "1. 9105\n",
       "2. 47\n",
       "\n",
       "\n"
      ],
      "text/plain": [
       "[1] 9105   47"
      ]
     },
     "metadata": {},
     "output_type": "display_data"
    }
   ],
   "source": [
    "# Check structure of dataset\n",
    "str(df_support)\n",
    "dim(df_support)\n"
   ]
  },
  {
   "cell_type": "markdown",
   "metadata": {},
   "source": [
    "After Inspecting closely, We see that for many categorical variables', the datatype are not 'Factor' eg. $ sex : chr  \"male\" \"female\" etc."
   ]
  },
  {
   "cell_type": "markdown",
   "metadata": {},
   "source": [
    "### Data Cleaning and Preprocessing"
   ]
  },
  {
   "cell_type": "code",
   "execution_count": 5,
   "metadata": {
    "vscode": {
     "languageId": "r"
    }
   },
   "outputs": [
    {
     "data": {
      "text/html": [
       "<dl>\n",
       "\t<dt>$death</dt>\n",
       "\t\t<dd><ol class=list-inline>\n",
       "\t<li>0</li>\n",
       "\t<li>1</li>\n",
       "</ol>\n",
       "</dd>\n",
       "\t<dt>$sex</dt>\n",
       "\t\t<dd><ol class=list-inline>\n",
       "\t<li>male</li>\n",
       "\t<li>female</li>\n",
       "</ol>\n",
       "\n",
       "<details>\n",
       "\t<summary style=display:list-item;cursor:pointer>\n",
       "\t\t<strong>Levels</strong>:\n",
       "\t</summary>\n",
       "\t<ol class=list-inline>\n",
       "\t\t<li>'female'</li>\n",
       "\t\t<li>'male'</li>\n",
       "\t</ol>\n",
       "</details></dd>\n",
       "\t<dt>$hospdead</dt>\n",
       "\t\t<dd><ol class=list-inline>\n",
       "\t<li>0</li>\n",
       "\t<li>1</li>\n",
       "</ol>\n",
       "</dd>\n",
       "\t<dt>$dzgroup</dt>\n",
       "\t\t<dd><ol class=list-inline>\n",
       "\t<li>Lung Cancer</li>\n",
       "\t<li>Cirrhosis</li>\n",
       "\t<li>ARF/MOSF w/Sepsis</li>\n",
       "\t<li>Coma</li>\n",
       "\t<li>CHF</li>\n",
       "\t<li>Colon Cancer</li>\n",
       "\t<li>COPD</li>\n",
       "\t<li>MOSF w/Malig</li>\n",
       "</ol>\n",
       "\n",
       "<details>\n",
       "\t<summary style=display:list-item;cursor:pointer>\n",
       "\t\t<strong>Levels</strong>:\n",
       "\t</summary>\n",
       "\t<ol class=list-inline>\n",
       "\t\t<li>'ARF/MOSF w/Sepsis'</li>\n",
       "\t\t<li>'CHF'</li>\n",
       "\t\t<li>'Cirrhosis'</li>\n",
       "\t\t<li>'Colon Cancer'</li>\n",
       "\t\t<li>'Coma'</li>\n",
       "\t\t<li>'COPD'</li>\n",
       "\t\t<li>'Lung Cancer'</li>\n",
       "\t\t<li>'MOSF w/Malig'</li>\n",
       "\t</ol>\n",
       "</details></dd>\n",
       "\t<dt>$dzclass</dt>\n",
       "\t\t<dd><ol class=list-inline>\n",
       "\t<li>Cancer</li>\n",
       "\t<li>COPD/CHF/Cirrhosis</li>\n",
       "\t<li>ARF/MOSF</li>\n",
       "\t<li>Coma</li>\n",
       "</ol>\n",
       "\n",
       "<details>\n",
       "\t<summary style=display:list-item;cursor:pointer>\n",
       "\t\t<strong>Levels</strong>:\n",
       "\t</summary>\n",
       "\t<ol class=list-inline>\n",
       "\t\t<li>'ARF/MOSF'</li>\n",
       "\t\t<li>'Cancer'</li>\n",
       "\t\t<li>'Coma'</li>\n",
       "\t\t<li>'COPD/CHF/Cirrhosis'</li>\n",
       "\t</ol>\n",
       "</details></dd>\n",
       "\t<dt>$income</dt>\n",
       "\t\t<dd><ol class=list-inline>\n",
       "\t<li>$11-$25k</li>\n",
       "\t<li>under $11k</li>\n",
       "\t<li></li>\n",
       "\t<li>$25-$50k</li>\n",
       "\t<li>&gt;$50k</li>\n",
       "</ol>\n",
       "\n",
       "<details>\n",
       "\t<summary style=display:list-item;cursor:pointer>\n",
       "\t\t<strong>Levels</strong>:\n",
       "\t</summary>\n",
       "\t<ol class=list-inline>\n",
       "\t\t<li>''</li>\n",
       "\t\t<li>'$11-$25k'</li>\n",
       "\t\t<li>'$25-$50k'</li>\n",
       "\t\t<li>'&gt;$50k'</li>\n",
       "\t\t<li>'under $11k'</li>\n",
       "\t</ol>\n",
       "</details></dd>\n",
       "\t<dt>$race</dt>\n",
       "\t\t<dd><ol class=list-inline>\n",
       "\t<li>other</li>\n",
       "\t<li>white</li>\n",
       "\t<li>black</li>\n",
       "\t<li>hispanic</li>\n",
       "\t<li>asian</li>\n",
       "\t<li></li>\n",
       "</ol>\n",
       "\n",
       "<details>\n",
       "\t<summary style=display:list-item;cursor:pointer>\n",
       "\t\t<strong>Levels</strong>:\n",
       "\t</summary>\n",
       "\t<ol class=list-inline>\n",
       "\t\t<li>''</li>\n",
       "\t\t<li>'asian'</li>\n",
       "\t\t<li>'black'</li>\n",
       "\t\t<li>'hispanic'</li>\n",
       "\t\t<li>'other'</li>\n",
       "\t\t<li>'white'</li>\n",
       "\t</ol>\n",
       "</details></dd>\n",
       "\t<dt>$diabetes</dt>\n",
       "\t\t<dd><ol class=list-inline>\n",
       "\t<li>0</li>\n",
       "\t<li>1</li>\n",
       "</ol>\n",
       "</dd>\n",
       "\t<dt>$dementia</dt>\n",
       "\t\t<dd><ol class=list-inline>\n",
       "\t<li>0</li>\n",
       "\t<li>1</li>\n",
       "</ol>\n",
       "</dd>\n",
       "\t<dt>$ca</dt>\n",
       "\t\t<dd><ol class=list-inline>\n",
       "\t<li>metastatic</li>\n",
       "\t<li>no</li>\n",
       "\t<li>yes</li>\n",
       "</ol>\n",
       "\n",
       "<details>\n",
       "\t<summary style=display:list-item;cursor:pointer>\n",
       "\t\t<strong>Levels</strong>:\n",
       "\t</summary>\n",
       "\t<ol class=list-inline>\n",
       "\t\t<li>'metastatic'</li>\n",
       "\t\t<li>'no'</li>\n",
       "\t\t<li>'yes'</li>\n",
       "\t</ol>\n",
       "</details></dd>\n",
       "\t<dt>$dnr</dt>\n",
       "\t\t<dd><ol class=list-inline>\n",
       "\t<li>no dnr</li>\n",
       "\t<li></li>\n",
       "\t<li>dnr after sadm</li>\n",
       "\t<li>dnr before sadm</li>\n",
       "</ol>\n",
       "\n",
       "<details>\n",
       "\t<summary style=display:list-item;cursor:pointer>\n",
       "\t\t<strong>Levels</strong>:\n",
       "\t</summary>\n",
       "\t<ol class=list-inline>\n",
       "\t\t<li>''</li>\n",
       "\t\t<li>'dnr after sadm'</li>\n",
       "\t\t<li>'dnr before sadm'</li>\n",
       "\t\t<li>'no dnr'</li>\n",
       "\t</ol>\n",
       "</details></dd>\n",
       "\t<dt>$adlp</dt>\n",
       "\t\t<dd><ol class=list-inline>\n",
       "\t<li>7</li>\n",
       "\t<li>&lt;NA&gt;</li>\n",
       "\t<li>1</li>\n",
       "\t<li>0</li>\n",
       "\t<li>2</li>\n",
       "\t<li>3</li>\n",
       "\t<li>5</li>\n",
       "\t<li>6</li>\n",
       "\t<li>4</li>\n",
       "</ol>\n",
       "</dd>\n",
       "\t<dt>$adls</dt>\n",
       "\t\t<dd><ol class=list-inline>\n",
       "\t<li>7</li>\n",
       "\t<li>1</li>\n",
       "\t<li>0</li>\n",
       "\t<li>2</li>\n",
       "\t<li>&lt;NA&gt;</li>\n",
       "\t<li>5</li>\n",
       "\t<li>4</li>\n",
       "\t<li>6</li>\n",
       "\t<li>3</li>\n",
       "</ol>\n",
       "</dd>\n",
       "\t<dt>$sfdm2</dt>\n",
       "\t\t<dd><ol class=list-inline>\n",
       "\t<li></li>\n",
       "\t<li>&lt;2 mo. follow-up</li>\n",
       "\t<li>no(M2 and SIP pres)</li>\n",
       "\t<li>SIP&gt;=30</li>\n",
       "\t<li>adl&gt;=4 (&gt;=5 if sur)</li>\n",
       "\t<li>Coma or Intub</li>\n",
       "</ol>\n",
       "\n",
       "<details>\n",
       "\t<summary style=display:list-item;cursor:pointer>\n",
       "\t\t<strong>Levels</strong>:\n",
       "\t</summary>\n",
       "\t<ol class=list-inline>\n",
       "\t\t<li>''</li>\n",
       "\t\t<li>'&lt;2 mo. follow-up'</li>\n",
       "\t\t<li>'adl&gt;=4 (&gt;=5 if sur)'</li>\n",
       "\t\t<li>'Coma or Intub'</li>\n",
       "\t\t<li>'no(M2 and SIP pres)'</li>\n",
       "\t\t<li>'SIP&gt;=30'</li>\n",
       "\t</ol>\n",
       "</details></dd>\n",
       "</dl>\n"
      ],
      "text/latex": [
       "\\begin{description}\n",
       "\\item[\\$death] \\begin{enumerate*}\n",
       "\\item 0\n",
       "\\item 1\n",
       "\\end{enumerate*}\n",
       "\n",
       "\\item[\\$sex] \\begin{enumerate*}\n",
       "\\item male\n",
       "\\item female\n",
       "\\end{enumerate*}\n",
       "\n",
       "\\emph{Levels}: \\begin{enumerate*}\n",
       "\\item 'female'\n",
       "\\item 'male'\n",
       "\\end{enumerate*}\n",
       "\n",
       "\\item[\\$hospdead] \\begin{enumerate*}\n",
       "\\item 0\n",
       "\\item 1\n",
       "\\end{enumerate*}\n",
       "\n",
       "\\item[\\$dzgroup] \\begin{enumerate*}\n",
       "\\item Lung Cancer\n",
       "\\item Cirrhosis\n",
       "\\item ARF/MOSF w/Sepsis\n",
       "\\item Coma\n",
       "\\item CHF\n",
       "\\item Colon Cancer\n",
       "\\item COPD\n",
       "\\item MOSF w/Malig\n",
       "\\end{enumerate*}\n",
       "\n",
       "\\emph{Levels}: \\begin{enumerate*}\n",
       "\\item 'ARF/MOSF w/Sepsis'\n",
       "\\item 'CHF'\n",
       "\\item 'Cirrhosis'\n",
       "\\item 'Colon Cancer'\n",
       "\\item 'Coma'\n",
       "\\item 'COPD'\n",
       "\\item 'Lung Cancer'\n",
       "\\item 'MOSF w/Malig'\n",
       "\\end{enumerate*}\n",
       "\n",
       "\\item[\\$dzclass] \\begin{enumerate*}\n",
       "\\item Cancer\n",
       "\\item COPD/CHF/Cirrhosis\n",
       "\\item ARF/MOSF\n",
       "\\item Coma\n",
       "\\end{enumerate*}\n",
       "\n",
       "\\emph{Levels}: \\begin{enumerate*}\n",
       "\\item 'ARF/MOSF'\n",
       "\\item 'Cancer'\n",
       "\\item 'Coma'\n",
       "\\item 'COPD/CHF/Cirrhosis'\n",
       "\\end{enumerate*}\n",
       "\n",
       "\\item[\\$income] \\begin{enumerate*}\n",
       "\\item \\$11-\\$25k\n",
       "\\item under \\$11k\n",
       "\\item \n",
       "\\item \\$25-\\$50k\n",
       "\\item >\\$50k\n",
       "\\end{enumerate*}\n",
       "\n",
       "\\emph{Levels}: \\begin{enumerate*}\n",
       "\\item ''\n",
       "\\item '\\$11-\\$25k'\n",
       "\\item '\\$25-\\$50k'\n",
       "\\item '>\\$50k'\n",
       "\\item 'under \\$11k'\n",
       "\\end{enumerate*}\n",
       "\n",
       "\\item[\\$race] \\begin{enumerate*}\n",
       "\\item other\n",
       "\\item white\n",
       "\\item black\n",
       "\\item hispanic\n",
       "\\item asian\n",
       "\\item \n",
       "\\end{enumerate*}\n",
       "\n",
       "\\emph{Levels}: \\begin{enumerate*}\n",
       "\\item ''\n",
       "\\item 'asian'\n",
       "\\item 'black'\n",
       "\\item 'hispanic'\n",
       "\\item 'other'\n",
       "\\item 'white'\n",
       "\\end{enumerate*}\n",
       "\n",
       "\\item[\\$diabetes] \\begin{enumerate*}\n",
       "\\item 0\n",
       "\\item 1\n",
       "\\end{enumerate*}\n",
       "\n",
       "\\item[\\$dementia] \\begin{enumerate*}\n",
       "\\item 0\n",
       "\\item 1\n",
       "\\end{enumerate*}\n",
       "\n",
       "\\item[\\$ca] \\begin{enumerate*}\n",
       "\\item metastatic\n",
       "\\item no\n",
       "\\item yes\n",
       "\\end{enumerate*}\n",
       "\n",
       "\\emph{Levels}: \\begin{enumerate*}\n",
       "\\item 'metastatic'\n",
       "\\item 'no'\n",
       "\\item 'yes'\n",
       "\\end{enumerate*}\n",
       "\n",
       "\\item[\\$dnr] \\begin{enumerate*}\n",
       "\\item no dnr\n",
       "\\item \n",
       "\\item dnr after sadm\n",
       "\\item dnr before sadm\n",
       "\\end{enumerate*}\n",
       "\n",
       "\\emph{Levels}: \\begin{enumerate*}\n",
       "\\item ''\n",
       "\\item 'dnr after sadm'\n",
       "\\item 'dnr before sadm'\n",
       "\\item 'no dnr'\n",
       "\\end{enumerate*}\n",
       "\n",
       "\\item[\\$adlp] \\begin{enumerate*}\n",
       "\\item 7\n",
       "\\item <NA>\n",
       "\\item 1\n",
       "\\item 0\n",
       "\\item 2\n",
       "\\item 3\n",
       "\\item 5\n",
       "\\item 6\n",
       "\\item 4\n",
       "\\end{enumerate*}\n",
       "\n",
       "\\item[\\$adls] \\begin{enumerate*}\n",
       "\\item 7\n",
       "\\item 1\n",
       "\\item 0\n",
       "\\item 2\n",
       "\\item <NA>\n",
       "\\item 5\n",
       "\\item 4\n",
       "\\item 6\n",
       "\\item 3\n",
       "\\end{enumerate*}\n",
       "\n",
       "\\item[\\$sfdm2] \\begin{enumerate*}\n",
       "\\item \n",
       "\\item <2 mo. follow-up\n",
       "\\item no(M2 and SIP pres)\n",
       "\\item SIP>=30\n",
       "\\item adl>=4 (>=5 if sur)\n",
       "\\item Coma or Intub\n",
       "\\end{enumerate*}\n",
       "\n",
       "\\emph{Levels}: \\begin{enumerate*}\n",
       "\\item ''\n",
       "\\item '<2 mo. follow-up'\n",
       "\\item 'adl>=4 (>=5 if sur)'\n",
       "\\item 'Coma or Intub'\n",
       "\\item 'no(M2 and SIP pres)'\n",
       "\\item 'SIP>=30'\n",
       "\\end{enumerate*}\n",
       "\n",
       "\\end{description}\n"
      ],
      "text/markdown": [
       "$death\n",
       ":   1. 0\n",
       "2. 1\n",
       "\n",
       "\n",
       "\n",
       "$sex\n",
       ":   1. male\n",
       "2. female\n",
       "\n",
       "\n",
       "\n",
       "**Levels**: 1. 'female'\n",
       "2. 'male'\n",
       "\n",
       "\n",
       "\n",
       "$hospdead\n",
       ":   1. 0\n",
       "2. 1\n",
       "\n",
       "\n",
       "\n",
       "$dzgroup\n",
       ":   1. Lung Cancer\n",
       "2. Cirrhosis\n",
       "3. ARF/MOSF w/Sepsis\n",
       "4. Coma\n",
       "5. CHF\n",
       "6. Colon Cancer\n",
       "7. COPD\n",
       "8. MOSF w/Malig\n",
       "\n",
       "\n",
       "\n",
       "**Levels**: 1. 'ARF/MOSF w/Sepsis'\n",
       "2. 'CHF'\n",
       "3. 'Cirrhosis'\n",
       "4. 'Colon Cancer'\n",
       "5. 'Coma'\n",
       "6. 'COPD'\n",
       "7. 'Lung Cancer'\n",
       "8. 'MOSF w/Malig'\n",
       "\n",
       "\n",
       "\n",
       "$dzclass\n",
       ":   1. Cancer\n",
       "2. COPD/CHF/Cirrhosis\n",
       "3. ARF/MOSF\n",
       "4. Coma\n",
       "\n",
       "\n",
       "\n",
       "**Levels**: 1. 'ARF/MOSF'\n",
       "2. 'Cancer'\n",
       "3. 'Coma'\n",
       "4. 'COPD/CHF/Cirrhosis'\n",
       "\n",
       "\n",
       "\n",
       "$income\n",
       ":   1. $11-$25k\n",
       "2. under $11k\n",
       "3. \n",
       "4. $25-$50k\n",
       "5. &gt;$50k\n",
       "\n",
       "\n",
       "\n",
       "**Levels**: 1. ''\n",
       "2. '$11-$25k'\n",
       "3. '$25-$50k'\n",
       "4. '&gt;$50k'\n",
       "5. 'under $11k'\n",
       "\n",
       "\n",
       "\n",
       "$race\n",
       ":   1. other\n",
       "2. white\n",
       "3. black\n",
       "4. hispanic\n",
       "5. asian\n",
       "6. \n",
       "\n",
       "\n",
       "\n",
       "**Levels**: 1. ''\n",
       "2. 'asian'\n",
       "3. 'black'\n",
       "4. 'hispanic'\n",
       "5. 'other'\n",
       "6. 'white'\n",
       "\n",
       "\n",
       "\n",
       "$diabetes\n",
       ":   1. 0\n",
       "2. 1\n",
       "\n",
       "\n",
       "\n",
       "$dementia\n",
       ":   1. 0\n",
       "2. 1\n",
       "\n",
       "\n",
       "\n",
       "$ca\n",
       ":   1. metastatic\n",
       "2. no\n",
       "3. yes\n",
       "\n",
       "\n",
       "\n",
       "**Levels**: 1. 'metastatic'\n",
       "2. 'no'\n",
       "3. 'yes'\n",
       "\n",
       "\n",
       "\n",
       "$dnr\n",
       ":   1. no dnr\n",
       "2. \n",
       "3. dnr after sadm\n",
       "4. dnr before sadm\n",
       "\n",
       "\n",
       "\n",
       "**Levels**: 1. ''\n",
       "2. 'dnr after sadm'\n",
       "3. 'dnr before sadm'\n",
       "4. 'no dnr'\n",
       "\n",
       "\n",
       "\n",
       "$adlp\n",
       ":   1. 7\n",
       "2. &lt;NA&gt;\n",
       "3. 1\n",
       "4. 0\n",
       "5. 2\n",
       "6. 3\n",
       "7. 5\n",
       "8. 6\n",
       "9. 4\n",
       "\n",
       "\n",
       "\n",
       "$adls\n",
       ":   1. 7\n",
       "2. 1\n",
       "3. 0\n",
       "4. 2\n",
       "5. &lt;NA&gt;\n",
       "6. 5\n",
       "7. 4\n",
       "8. 6\n",
       "9. 3\n",
       "\n",
       "\n",
       "\n",
       "$sfdm2\n",
       ":   1. \n",
       "2. &lt;2 mo. follow-up\n",
       "3. no(M2 and SIP pres)\n",
       "4. SIP&gt;=30\n",
       "5. adl&gt;=4 (&gt;=5 if sur)\n",
       "6. Coma or Intub\n",
       "\n",
       "\n",
       "\n",
       "**Levels**: 1. ''\n",
       "2. '&lt;2 mo. follow-up'\n",
       "3. 'adl&gt;=4 (&gt;=5 if sur)'\n",
       "4. 'Coma or Intub'\n",
       "5. 'no(M2 and SIP pres)'\n",
       "6. 'SIP&gt;=30'\n",
       "\n",
       "\n",
       "\n",
       "\n",
       "\n"
      ],
      "text/plain": [
       "$death\n",
       "[1] 0 1\n",
       "\n",
       "$sex\n",
       "[1] male   female\n",
       "Levels: female male\n",
       "\n",
       "$hospdead\n",
       "[1] 0 1\n",
       "\n",
       "$dzgroup\n",
       "[1] Lung Cancer       Cirrhosis         ARF/MOSF w/Sepsis Coma             \n",
       "[5] CHF               Colon Cancer      COPD              MOSF w/Malig     \n",
       "8 Levels: ARF/MOSF w/Sepsis CHF Cirrhosis Colon Cancer Coma ... MOSF w/Malig\n",
       "\n",
       "$dzclass\n",
       "[1] Cancer             COPD/CHF/Cirrhosis ARF/MOSF           Coma              \n",
       "Levels: ARF/MOSF Cancer Coma COPD/CHF/Cirrhosis\n",
       "\n",
       "$income\n",
       "[1] $11-$25k   under $11k            $25-$50k   >$50k     \n",
       "Levels:  $11-$25k $25-$50k >$50k under $11k\n",
       "\n",
       "$race\n",
       "[1] other    white    black    hispanic asian            \n",
       "Levels:  asian black hispanic other white\n",
       "\n",
       "$diabetes\n",
       "[1] 0 1\n",
       "\n",
       "$dementia\n",
       "[1] 0 1\n",
       "\n",
       "$ca\n",
       "[1] metastatic no         yes       \n",
       "Levels: metastatic no yes\n",
       "\n",
       "$dnr\n",
       "[1] no dnr                          dnr after sadm  dnr before sadm\n",
       "Levels:  dnr after sadm dnr before sadm no dnr\n",
       "\n",
       "$adlp\n",
       "[1]  7 NA  1  0  2  3  5  6  4\n",
       "\n",
       "$adls\n",
       "[1]  7  1  0  2 NA  5  4  6  3\n",
       "\n",
       "$sfdm2\n",
       "[1]                     <2 mo. follow-up    no(M2 and SIP pres)\n",
       "[4] SIP>=30             adl>=4 (>=5 if sur) Coma or Intub      \n",
       "6 Levels:  <2 mo. follow-up adl>=4 (>=5 if sur) ... SIP>=30\n"
      ]
     },
     "metadata": {},
     "output_type": "display_data"
    },
    {
     "name": "stdout",
     "output_type": "stream",
     "text": [
      "List of 14\n",
      " $ death   : int [1:2] 0 1\n",
      " $ sex     : Factor w/ 2 levels \"female\",\"male\": 2 1\n",
      " $ hospdead: int [1:2] 0 1\n",
      " $ dzgroup : Factor w/ 8 levels \"ARF/MOSF w/Sepsis\",..: 7 3 1 5 2 4 6 8\n",
      " $ dzclass : Factor w/ 4 levels \"ARF/MOSF\",\"Cancer\",..: 2 4 1 3\n",
      " $ income  : Factor w/ 5 levels \"\",\"$11-$25k\",..: 2 5 1 3 4\n",
      " $ race    : Factor w/ 6 levels \"\",\"asian\",\"black\",..: 5 6 3 4 2 1\n",
      " $ diabetes: int [1:2] 0 1\n",
      " $ dementia: int [1:2] 0 1\n",
      " $ ca      : Factor w/ 3 levels \"metastatic\",\"no\",..: 1 2 3\n",
      " $ dnr     : Factor w/ 4 levels \"\",\"dnr after sadm\",..: 4 1 2 3\n",
      " $ adlp    : int [1:9] 7 NA 1 0 2 3 5 6 4\n",
      " $ adls    : int [1:9] 7 1 0 2 NA 5 4 6 3\n",
      " $ sfdm2   : Factor w/ 6 levels \"\",\"<2 mo. follow-up\",..: 1 2 5 6 3 4\n"
     ]
    }
   ],
   "source": [
    "# Identify and Group the categorical variables as categories of interest\n",
    "cat_interest <- c(\"death\", \"sex\", \"hospdead\", \"dzgroup\", \"dzclass\", \"income\", \"race\", \"diabetes\", \"dementia\", \"ca\", \"dnr\", \"adlp\", \"adls\", \"sfdm2\")\n",
    "\n",
    "# Apply unique function to check unique categories for each variable and check their structure\n",
    "unique_values <- sapply(df_support[cat_interest], unique)\n",
    "unique_values\n",
    "\n",
    "str(unique_values)\n"
   ]
  },
  {
   "cell_type": "code",
   "execution_count": 6,
   "metadata": {
    "vscode": {
     "languageId": "r"
    }
   },
   "outputs": [
    {
     "data": {
      "text/html": [
       "<ol class=list-inline>\n",
       "\t<li>metastatic</li>\n",
       "\t<li>no</li>\n",
       "\t<li>yes</li>\n",
       "</ol>\n",
       "\n",
       "<details>\n",
       "\t<summary style=display:list-item;cursor:pointer>\n",
       "\t\t<strong>Levels</strong>:\n",
       "\t</summary>\n",
       "\t<ol class=list-inline>\n",
       "\t\t<li>'no'</li>\n",
       "\t\t<li>'yes'</li>\n",
       "\t\t<li>'metastatic'</li>\n",
       "\t</ol>\n",
       "</details>"
      ],
      "text/latex": [
       "\\begin{enumerate*}\n",
       "\\item metastatic\n",
       "\\item no\n",
       "\\item yes\n",
       "\\end{enumerate*}\n",
       "\n",
       "\\emph{Levels}: \\begin{enumerate*}\n",
       "\\item 'no'\n",
       "\\item 'yes'\n",
       "\\item 'metastatic'\n",
       "\\end{enumerate*}\n"
      ],
      "text/markdown": [
       "1. metastatic\n",
       "2. no\n",
       "3. yes\n",
       "\n",
       "\n",
       "\n",
       "**Levels**: 1. 'no'\n",
       "2. 'yes'\n",
       "3. 'metastatic'\n",
       "\n",
       "\n"
      ],
      "text/plain": [
       "[1] metastatic no         yes       \n",
       "Levels: no < yes < metastatic"
      ]
     },
     "metadata": {},
     "output_type": "display_data"
    }
   ],
   "source": [
    "# convert categorical and ordinal variables to factors  # nolint\n",
    "df_support$sex <- factor(df_support$sex)\n",
    "\n",
    "df_support$death <- factor(df_support$death)\n",
    "\n",
    "df_support$hospdead <- factor(df_support$hospdead)\n",
    "\n",
    "df_support$dzgroup <- factor(df_support$dzgroup)\n",
    "\n",
    "df_support$dzclass <- factor(df_support$dzclass)\n",
    "\n",
    "df_support$income <- factor(df_support$income, ordered = TRUE, levels = c(\"under $11k\", \"$11-$25k\", \"$25-$50k\", \">$50k\"))\n",
    "\n",
    "df_support$race <- factor(df_support$race)\n",
    "\n",
    "df_support$diabetes <- factor(df_support$diabetes)\n",
    "\n",
    "df_support$dementia <- factor(df_support$dementia)\n",
    "\n",
    "factor(c(\"metastatic\", \"no\", \"yes\"),\n",
    "    levels = c(\"no\", \"yes\", \"metastatic\"),\n",
    "    ordered = TRUE\n",
    ")\n",
    "\n",
    "df_support$adlp <- factor(df_support$adlp, ordered = TRUE, levels = c(1, 2, 3, 4, 5, 6, 7))\n",
    "\n",
    "df_support$adls <- factor(df_support$adls, ordered = TRUE, levels = c(1, 2, 3, 4, 5, 6, 7))\n",
    "\n",
    "df_support$sfdm2 <- factor(df_support$sfdm2, ordered = TRUE, levels = c(\"no(M2 and SIP pres)\", \"adl>=4 (>=5 if sur)\", \"SIP>=30\", \"Coma or Intub\", \"<2 mo. follow-up\"))\n"
   ]
  },
  {
   "cell_type": "code",
   "execution_count": 7,
   "metadata": {
    "vscode": {
     "languageId": "r"
    }
   },
   "outputs": [
    {
     "name": "stdout",
     "output_type": "stream",
     "text": [
      "'data.frame':\t9105 obs. of  14 variables:\n",
      " $ death   : Factor w/ 2 levels \"0\",\"1\": 1 2 2 2 1 2 2 2 2 2 ...\n",
      " $ sex     : Factor w/ 2 levels \"female\",\"male\": 2 1 1 1 1 2 2 2 2 1 ...\n",
      " $ hospdead: Factor w/ 2 levels \"0\",\"1\": 1 2 1 1 1 2 1 1 1 1 ...\n",
      " $ dzgroup : Factor w/ 8 levels \"ARF/MOSF w/Sepsis\",..: 7 3 3 7 1 5 2 2 7 4 ...\n",
      " $ dzclass : Factor w/ 4 levels \"ARF/MOSF\",\"Cancer\",..: 2 4 4 2 1 3 4 4 2 2 ...\n",
      " $ income  : Ord.factor w/ 4 levels \"under $11k\"<\"$11-$25k\"<..: 2 2 1 1 NA NA 3 NA NA 3 ...\n",
      " $ race    : Factor w/ 6 levels \"\",\"asian\",\"black\",..: 5 6 6 6 6 6 6 6 3 4 ...\n",
      " $ diabetes: Factor w/ 2 levels \"0\",\"1\": 1 1 1 1 1 1 1 2 1 1 ...\n",
      " $ dementia: Factor w/ 2 levels \"0\",\"1\": 1 1 1 1 1 1 1 1 2 1 ...\n",
      " $ ca      : Factor w/ 3 levels \"metastatic\",\"no\",..: 1 2 2 1 2 2 2 2 1 1 ...\n",
      " $ dnr     : Factor w/ 4 levels \"\",\"dnr after sadm\",..: 4 1 4 4 4 4 4 4 2 4 ...\n",
      " $ adlp    : Ord.factor w/ 7 levels \"1\"<\"2\"<\"3\"<\"4\"<..: 7 NA 1 NA NA NA NA NA NA NA ...\n",
      " $ adls    : Ord.factor w/ 7 levels \"1\"<\"2\"<\"3\"<\"4\"<..: 7 1 NA NA 2 1 1 NA 7 NA ...\n",
      " $ sfdm2   : Ord.factor w/ 5 levels \"no(M2 and SIP pres)\"<..: NA 5 5 1 1 5 1 NA NA NA ...\n"
     ]
    }
   ],
   "source": [
    "# Check structure of dataset to confirm changes\n",
    "str(df_support[cat_interest])\n"
   ]
  },
  {
   "cell_type": "markdown",
   "metadata": {
    "vscode": {
     "languageId": "r"
    }
   },
   "source": [
    "### MISSING VALUES ANALYSIS\n",
    "\n"
   ]
  },
  {
   "cell_type": "code",
   "execution_count": 8,
   "metadata": {
    "vscode": {
     "languageId": "r"
    }
   },
   "outputs": [
    {
     "data": {
      "text/html": [
       "106"
      ],
      "text/latex": [
       "106"
      ],
      "text/markdown": [
       "106"
      ],
      "text/plain": [
       "[1] 106"
      ]
     },
     "metadata": {},
     "output_type": "display_data"
    },
    {
     "data": {
      "text/html": [
       "<ol class=list-inline>\n",
       "\t<li>9105</li>\n",
       "\t<li>47</li>\n",
       "</ol>\n"
      ],
      "text/latex": [
       "\\begin{enumerate*}\n",
       "\\item 9105\n",
       "\\item 47\n",
       "\\end{enumerate*}\n"
      ],
      "text/markdown": [
       "1. 9105\n",
       "2. 47\n",
       "\n",
       "\n"
      ],
      "text/plain": [
       "[1] 9105   47"
      ]
     },
     "metadata": {},
     "output_type": "display_data"
    }
   ],
   "source": [
    "# Count the total number of complete cases (Rows with no missing values)\n",
    "num_complete_cases <- sum(complete.cases(df_support))\n",
    "num_complete_cases\n",
    "\n",
    "dim(df_support)\n",
    "\n",
    "# We have only 106 complete cases (rows with no missing values) out of 9105 rows. This is a very small number of complete cases. In order to make the dataset usable, we will have to find identify which variables have the most missing values and drop them from the dataset.\n"
   ]
  },
  {
   "cell_type": "code",
   "execution_count": 9,
   "metadata": {
    "vscode": {
     "languageId": "r"
    }
   },
   "outputs": [
    {
     "data": {
      "text/html": [
       "<dl class=dl-horizontal>\n",
       "\t<dt>adlp</dt>\n",
       "\t\t<dd>7490</dd>\n",
       "\t<dt>adls</dt>\n",
       "\t\t<dd>5975</dd>\n",
       "\t<dt>urine</dt>\n",
       "\t\t<dd>4862</dd>\n",
       "\t<dt>glucose</dt>\n",
       "\t\t<dd>4500</dd>\n",
       "\t<dt>bun</dt>\n",
       "\t\t<dd>4352</dd>\n",
       "\t<dt>totmcst</dt>\n",
       "\t\t<dd>3475</dd>\n",
       "\t<dt>alb</dt>\n",
       "\t\t<dd>3372</dd>\n",
       "\t<dt>income</dt>\n",
       "\t\t<dd>2982</dd>\n",
       "\t<dt>bili</dt>\n",
       "\t\t<dd>2601</dd>\n",
       "\t<dt>pafi</dt>\n",
       "\t\t<dd>2325</dd>\n",
       "\t<dt>ph</dt>\n",
       "\t\t<dd>2284</dd>\n",
       "\t<dt>prg2m</dt>\n",
       "\t\t<dd>1649</dd>\n",
       "\t<dt>edu</dt>\n",
       "\t\t<dd>1634</dd>\n",
       "\t<dt>prg6m</dt>\n",
       "\t\t<dd>1633</dd>\n",
       "\t<dt>sfdm2</dt>\n",
       "\t\t<dd>1400</dd>\n",
       "</dl>\n"
      ],
      "text/latex": [
       "\\begin{description*}\n",
       "\\item[adlp] 7490\n",
       "\\item[adls] 5975\n",
       "\\item[urine] 4862\n",
       "\\item[glucose] 4500\n",
       "\\item[bun] 4352\n",
       "\\item[totmcst] 3475\n",
       "\\item[alb] 3372\n",
       "\\item[income] 2982\n",
       "\\item[bili] 2601\n",
       "\\item[pafi] 2325\n",
       "\\item[ph] 2284\n",
       "\\item[prg2m] 1649\n",
       "\\item[edu] 1634\n",
       "\\item[prg6m] 1633\n",
       "\\item[sfdm2] 1400\n",
       "\\end{description*}\n"
      ],
      "text/markdown": [
       "adlp\n",
       ":   7490adls\n",
       ":   5975urine\n",
       ":   4862glucose\n",
       ":   4500bun\n",
       ":   4352totmcst\n",
       ":   3475alb\n",
       ":   3372income\n",
       ":   2982bili\n",
       ":   2601pafi\n",
       ":   2325ph\n",
       ":   2284prg2m\n",
       ":   1649edu\n",
       ":   1634prg6m\n",
       ":   1633sfdm2\n",
       ":   1400\n",
       "\n"
      ],
      "text/plain": [
       "   adlp    adls   urine glucose     bun totmcst     alb  income    bili    pafi \n",
       "   7490    5975    4862    4500    4352    3475    3372    2982    2601    2325 \n",
       "     ph   prg2m     edu   prg6m   sfdm2 \n",
       "   2284    1649    1634    1633    1400 "
      ]
     },
     "metadata": {},
     "output_type": "display_data"
    }
   ],
   "source": [
    "# Check for Missing Values in each column and sort in descending order\n",
    "\n",
    "na_counts_col <- colSums(is.na(df_support))\n",
    "\n",
    "na_counts_col <- sort(na_counts_col, decreasing = TRUE)\n",
    "\n",
    "na_counts_col[1:15]\n"
   ]
  },
  {
   "cell_type": "markdown",
   "metadata": {},
   "source": [
    "Variables with the most missing values are:\n",
    "1. adlp : 7490 (Too many missing values, and highly correlated with other 'Activities of Daily Living Index' variable (adlsc) \n",
    "2. adls : 7490 (same as above)\n",
    "3. urine : 4862\n",
    "4. glucose : 4500\n",
    "5. bun : 4352\n",
    "6. totmcst (Total micro cost): 3475 (Highly correlated with totcst)\n",
    "7. alb : 3372  etc.\n",
    "\n",
    "To determine which variables to drop, we will create a correlation matrix and identify the variables with high correlation. \n",
    "\n",
    "\n",
    "\n",
    "To start, We will drop the variables with more than 50% missing values. These are:\n",
    "1. adlp and \n",
    "2.  "
   ]
  },
  {
   "cell_type": "code",
   "execution_count": 10,
   "metadata": {
    "vscode": {
     "languageId": "r"
    }
   },
   "outputs": [
    {
     "data": {
      "text/html": [
       "<table>\n",
       "<thead><tr><th scope=col>age</th><th scope=col>slos</th><th scope=col>d.time</th><th scope=col>num.co</th><th scope=col>edu</th><th scope=col>scoma</th><th scope=col>charges</th><th scope=col>totcst</th><th scope=col>totmcst</th><th scope=col>avtisst</th><th scope=col>...</th><th scope=col>pafi</th><th scope=col>alb</th><th scope=col>bili</th><th scope=col>crea</th><th scope=col>sod</th><th scope=col>ph</th><th scope=col>glucose</th><th scope=col>bun</th><th scope=col>urine</th><th scope=col>adlsc</th></tr></thead>\n",
       "<tbody>\n",
       "\t<tr><td>62.84998 </td><td> 5       </td><td>2029     </td><td>0        </td><td>11       </td><td> 0       </td><td> 9715    </td><td>NA       </td><td>NA       </td><td> 7.00000 </td><td>...      </td><td>388.0000 </td><td>1.799805 </td><td>0.1999817</td><td>1.1999512</td><td>141      </td><td>7.459961 </td><td>NA       </td><td>NA       </td><td>NA       </td><td>7        </td></tr>\n",
       "\t<tr><td>60.33899 </td><td> 4       </td><td>   4     </td><td>2        </td><td>12       </td><td>44       </td><td>34496    </td><td>NA       </td><td>NA       </td><td>29.00000 </td><td>...      </td><td> 98.0000 </td><td>      NA </td><td>       NA</td><td>5.5000000</td><td>132      </td><td>7.250000 </td><td>NA       </td><td>NA       </td><td>NA       </td><td>1        </td></tr>\n",
       "\t<tr><td>52.74698 </td><td>17       </td><td>  47     </td><td>2        </td><td>12       </td><td> 0       </td><td>41094    </td><td>NA       </td><td>NA       </td><td>13.00000 </td><td>...      </td><td>231.6562 </td><td>      NA </td><td>2.1997070</td><td>2.0000000</td><td>134      </td><td>7.459961 </td><td>NA       </td><td>NA       </td><td>NA       </td><td>0        </td></tr>\n",
       "\t<tr><td>42.38498 </td><td> 3       </td><td> 133     </td><td>2        </td><td>11       </td><td> 0       </td><td> 3075    </td><td>NA       </td><td>NA       </td><td> 7.00000 </td><td>...      </td><td>      NA </td><td>      NA </td><td>       NA</td><td>0.7999268</td><td>139      </td><td>      NA </td><td>NA       </td><td>NA       </td><td>NA       </td><td>0        </td></tr>\n",
       "\t<tr><td>79.88495 </td><td>16       </td><td>2029     </td><td>1        </td><td>NA       </td><td>26       </td><td>50127    </td><td>NA       </td><td>NA       </td><td>18.66666 </td><td>...      </td><td>173.3125 </td><td>      NA </td><td>       NA</td><td>0.7999268</td><td>143      </td><td>7.509766 </td><td>NA       </td><td>NA       </td><td>NA       </td><td>2        </td></tr>\n",
       "\t<tr><td>93.01599 </td><td> 4       </td><td>   4     </td><td>1        </td><td>14       </td><td>55       </td><td> 6884    </td><td>NA       </td><td>NA       </td><td> 5.00000 </td><td>...      </td><td>266.6250 </td><td>      NA </td><td>       NA</td><td>0.6999512</td><td>140      </td><td>7.659180 </td><td>NA       </td><td>NA       </td><td>NA       </td><td>1        </td></tr>\n",
       "</tbody>\n",
       "</table>\n"
      ],
      "text/latex": [
       "\\begin{tabular}{r|lllllllllllllllllllllllllllllllll}\n",
       " age & slos & d.time & num.co & edu & scoma & charges & totcst & totmcst & avtisst & ... & pafi & alb & bili & crea & sod & ph & glucose & bun & urine & adlsc\\\\\n",
       "\\hline\n",
       "\t 62.84998  &  5        & 2029      & 0         & 11        &  0        &  9715     & NA        & NA        &  7.00000  & ...       & 388.0000  & 1.799805  & 0.1999817 & 1.1999512 & 141       & 7.459961  & NA        & NA        & NA        & 7        \\\\\n",
       "\t 60.33899  &  4        &    4      & 2         & 12        & 44        & 34496     & NA        & NA        & 29.00000  & ...       &  98.0000  &       NA  &        NA & 5.5000000 & 132       & 7.250000  & NA        & NA        & NA        & 1        \\\\\n",
       "\t 52.74698  & 17        &   47      & 2         & 12        &  0        & 41094     & NA        & NA        & 13.00000  & ...       & 231.6562  &       NA  & 2.1997070 & 2.0000000 & 134       & 7.459961  & NA        & NA        & NA        & 0        \\\\\n",
       "\t 42.38498  &  3        &  133      & 2         & 11        &  0        &  3075     & NA        & NA        &  7.00000  & ...       &       NA  &       NA  &        NA & 0.7999268 & 139       &       NA  & NA        & NA        & NA        & 0        \\\\\n",
       "\t 79.88495  & 16        & 2029      & 1         & NA        & 26        & 50127     & NA        & NA        & 18.66666  & ...       & 173.3125  &       NA  &        NA & 0.7999268 & 143       & 7.509766  & NA        & NA        & NA        & 2        \\\\\n",
       "\t 93.01599  &  4        &    4      & 1         & 14        & 55        &  6884     & NA        & NA        &  5.00000  & ...       & 266.6250  &       NA  &        NA & 0.6999512 & 140       & 7.659180  & NA        & NA        & NA        & 1        \\\\\n",
       "\\end{tabular}\n"
      ],
      "text/markdown": [
       "\n",
       "| age | slos | d.time | num.co | edu | scoma | charges | totcst | totmcst | avtisst | ... | pafi | alb | bili | crea | sod | ph | glucose | bun | urine | adlsc |\n",
       "|---|---|---|---|---|---|---|---|---|---|---|---|---|---|---|---|---|---|---|---|---|\n",
       "| 62.84998  |  5        | 2029      | 0         | 11        |  0        |  9715     | NA        | NA        |  7.00000  | ...       | 388.0000  | 1.799805  | 0.1999817 | 1.1999512 | 141       | 7.459961  | NA        | NA        | NA        | 7         |\n",
       "| 60.33899  |  4        |    4      | 2         | 12        | 44        | 34496     | NA        | NA        | 29.00000  | ...       |  98.0000  |       NA  |        NA | 5.5000000 | 132       | 7.250000  | NA        | NA        | NA        | 1         |\n",
       "| 52.74698  | 17        |   47      | 2         | 12        |  0        | 41094     | NA        | NA        | 13.00000  | ...       | 231.6562  |       NA  | 2.1997070 | 2.0000000 | 134       | 7.459961  | NA        | NA        | NA        | 0         |\n",
       "| 42.38498  |  3        |  133      | 2         | 11        |  0        |  3075     | NA        | NA        |  7.00000  | ...       |       NA  |       NA  |        NA | 0.7999268 | 139       |       NA  | NA        | NA        | NA        | 0         |\n",
       "| 79.88495  | 16        | 2029      | 1         | NA        | 26        | 50127     | NA        | NA        | 18.66666  | ...       | 173.3125  |       NA  |        NA | 0.7999268 | 143       | 7.509766  | NA        | NA        | NA        | 2         |\n",
       "| 93.01599  |  4        |    4      | 1         | 14        | 55        |  6884     | NA        | NA        |  5.00000  | ...       | 266.6250  |       NA  |        NA | 0.6999512 | 140       | 7.659180  | NA        | NA        | NA        | 1         |\n",
       "\n"
      ],
      "text/plain": [
       "  age      slos d.time num.co edu scoma charges totcst totmcst avtisst  ...\n",
       "1 62.84998  5   2029   0      11   0     9715   NA     NA       7.00000 ...\n",
       "2 60.33899  4      4   2      12  44    34496   NA     NA      29.00000 ...\n",
       "3 52.74698 17     47   2      12   0    41094   NA     NA      13.00000 ...\n",
       "4 42.38498  3    133   2      11   0     3075   NA     NA       7.00000 ...\n",
       "5 79.88495 16   2029   1      NA  26    50127   NA     NA      18.66666 ...\n",
       "6 93.01599  4      4   1      14  55     6884   NA     NA       5.00000 ...\n",
       "  pafi     alb      bili      crea      sod ph       glucose bun urine adlsc\n",
       "1 388.0000 1.799805 0.1999817 1.1999512 141 7.459961 NA      NA  NA    7    \n",
       "2  98.0000       NA        NA 5.5000000 132 7.250000 NA      NA  NA    1    \n",
       "3 231.6562       NA 2.1997070 2.0000000 134 7.459961 NA      NA  NA    0    \n",
       "4       NA       NA        NA 0.7999268 139       NA NA      NA  NA    0    \n",
       "5 173.3125       NA        NA 0.7999268 143 7.509766 NA      NA  NA    2    \n",
       "6 266.6250       NA        NA 0.6999512 140 7.659180 NA      NA  NA    1    "
      ]
     },
     "metadata": {},
     "output_type": "display_data"
    }
   ],
   "source": [
    "# Create df with only numeric columns for creating a correlation matrix\n",
    "numeric_columns <- sapply(df_support, is.numeric)\n",
    "numeric_df <- df_support[numeric_columns]\n",
    "\n",
    "head(numeric_df)\n"
   ]
  },
  {
   "cell_type": "code",
   "execution_count": 11,
   "metadata": {
    "vscode": {
     "languageId": "r"
    }
   },
   "outputs": [
    {
     "name": "stderr",
     "output_type": "stream",
     "text": [
      "corrplot 0.92 loaded\n"
     ]
    },
    {
     "name": "stdout",
     "output_type": "stream",
     "text": [
      "        Var1    Var2      value\n",
      "240  totmcst  totcst  0.9689325\n",
      "410   surv6m  surv2m  0.9603923\n",
      "51    dnrday    slos  0.8952043\n",
      "512    prg6m   prg2m  0.8948647\n",
      "41    totcst    slos  0.8333012\n",
      "206   totcst charges  0.8328858\n",
      "42   totmcst    slos  0.8173748\n",
      "207  totmcst charges  0.8080156\n",
      "249   dnrday  totcst  0.7836419\n",
      "282   dnrday totmcst  0.7706970\n",
      "342      aps     sps  0.7701623\n",
      "343   surv2m     sps -0.7460156\n",
      "889      bun    crea  0.7023728\n",
      "344   surv6m     sps -0.6695264\n",
      "40   charges    slos  0.6188178\n",
      "376   surv2m     aps -0.5969726\n",
      "309      aps avtisst  0.5939339\n",
      "216   dnrday charges  0.5926286\n",
      "274  avtisst totmcst  0.5624625\n",
      "213     hday charges  0.5623091\n",
      "412    prg2m  surv2m  0.5547620\n",
      "178   surv2m   scoma -0.5482460\n",
      "241  avtisst  totcst  0.5477100\n",
      "446    prg6m  surv6m  0.5396185\n",
      "308      sps avtisst  0.5265082\n",
      "445    prg2m  surv6m  0.5264234\n",
      "413    prg6m  surv2m  0.5120520\n",
      "377   surv6m     aps -0.4926692\n",
      "208  avtisst charges  0.4907841\n",
      "83     prg6m  d.time  0.4863762\n",
      "80    surv6m  d.time  0.4683815\n",
      "246     hday  totcst  0.4594989\n",
      "179   surv6m   scoma -0.4592470\n",
      "279     hday totmcst  0.4374050\n",
      "82     prg2m  d.time  0.4325208\n",
      "379    prg2m     aps -0.4275102\n",
      "79    surv2m  d.time  0.4247914\n",
      "310   surv2m avtisst -0.4200840\n",
      "346    prg2m     sps -0.4146669\n",
      "315   dnrday avtisst  0.3803679\n",
      "43   avtisst    slos  0.3765805\n",
      "181    prg2m   scoma -0.3668178\n",
      "313    prg2m avtisst -0.3573112\n",
      "276      aps totmcst  0.3434488\n",
      "243      aps  totcst  0.3393550\n",
      "210      aps charges  0.3377355\n",
      "890    urine    crea -0.3280776\n",
      "347    prg6m     sps -0.3135267\n",
      "311   surv6m avtisst -0.3061644\n",
      "175  avtisst   scoma  0.3015497\n",
      "380    prg6m     aps -0.3012563\n",
      "182    prg6m   scoma -0.2882154\n",
      "275      sps totmcst  0.2678386\n",
      "242      sps  totcst  0.2635604\n",
      "209      sps charges  0.2595022\n",
      "312     hday avtisst  0.2543205\n",
      "177      aps   scoma  0.2454346\n",
      "1022   urine     bun -0.2451600\n",
      "224     bili charges  0.2370066\n",
      "14    surv6m     age -0.2329150\n",
      "683     temp     hrt  0.2316518\n",
      "77       sps  d.time -0.2287548\n",
      "78       aps  d.time -0.2286765\n",
      "856      bun    bili  0.2171125\n",
      "211   surv2m charges -0.2163250\n",
      "109  avtisst  num.co -0.2152402\n",
      "176      sps   scoma  0.2143141\n",
      "84    dnrday  d.time  0.2124131\n",
      "48      hday    slos  0.2081340\n",
      "3     d.time     age -0.2006441\n",
      "378     hday     aps  0.1985603\n",
      "277   surv2m totmcst -0.1969986\n",
      "480   dnrday    hday  0.1969446\n",
      "682     resp     hrt  0.1952231\n",
      "244   surv2m  totcst -0.1932936\n",
      "314    prg6m avtisst -0.1929954\n",
      "45       aps    slos  0.1927756\n",
      "72     scoma  d.time -0.1924999\n",
      "76   avtisst  d.time -0.1921446\n",
      "626    urine  meanbp  0.1918041\n",
      "887       ph    crea -0.1895204\n",
      "108  totmcst  num.co -0.1887274\n",
      "411     hday  surv2m -0.1884204\n",
      "13    surv2m     age -0.1860520\n",
      "107   totcst  num.co -0.1824859\n",
      "685      alb     hrt -0.1812029\n",
      "5        edu     age -0.1807418\n",
      "172  charges   scoma  0.1790324\n",
      "10   avtisst     age -0.1733297\n",
      "381   dnrday     aps  0.1712412\n",
      "356     bili     sps  0.1700504\n",
      "117   dnrday  num.co -0.1693004\n",
      "561    adlsc   prg6m -0.1686406\n",
      "7    charges     age -0.1676845\n",
      "528    adlsc   prg2m -0.1600548\n",
      "422     bili  surv2m -0.1596025\n",
      "212   surv6m charges -0.1594437\n",
      "18    dnrday     age -0.1577317\n",
      "132    adlsc  num.co  0.1576658\n",
      "99     adlsc  d.time -0.1565151\n"
     ]
    }
   ],
   "source": [
    "# Create a corrplot to visualize the correlation between the variables\n",
    "# install.packages(\"corrplot\")\n",
    "library(corrplot)\n",
    "library(reshape2)\n",
    "\n",
    "# Assuming df is your data frame\n",
    "correlation_matrix <- cor(numeric_df, use = \"complete.obs\")\n",
    "\n",
    "# Flatten and filter\n",
    "corr_melted <- melt(correlation_matrix)\n",
    "\n",
    "# Remove self-correlations and duplicates\n",
    "corr_melted <- subset(corr_melted, Var1 != Var2)\n",
    "corr_melted <- corr_melted[!duplicated(t(apply(corr_melted[, 1:2], 1, sort))), ]\n",
    "\n",
    "# Sort by absolute correlation value\n",
    "corr_melted <- corr_melted[order(-abs(corr_melted$value)), ]\n",
    "top_correlations <- head(corr_melted, 100) # Top 20 correlations\n",
    "\n",
    "print(top_correlations)\n"
   ]
  },
  {
   "cell_type": "code",
   "execution_count": 12,
   "metadata": {
    "vscode": {
     "languageId": "r"
    }
   },
   "outputs": [],
   "source": [
    "# # Assuming x and y are your variables\n",
    "# result <- cor.test(df_support$dnrday, df_support$avtisst, method = \"pearson\")\n",
    "\n",
    "# # This will give you the correlation coefficient and the p-value\n",
    "# print(result)\n"
   ]
  },
  {
   "cell_type": "code",
   "execution_count": 13,
   "metadata": {
    "vscode": {
     "languageId": "r"
    }
   },
   "outputs": [
    {
     "name": "stdout",
     "output_type": "stream",
     "text": [
      "'data.frame':\t9105 obs. of  42 variables:\n",
      " $ age     : num  62.8 60.3 52.7 42.4 79.9 ...\n",
      " $ death   : Factor w/ 2 levels \"0\",\"1\": 1 2 2 2 1 2 2 2 2 2 ...\n",
      " $ sex     : Factor w/ 2 levels \"female\",\"male\": 2 1 1 1 1 2 2 2 2 1 ...\n",
      " $ hospdead: Factor w/ 2 levels \"0\",\"1\": 1 2 1 1 1 2 1 1 1 1 ...\n",
      " $ slos    : int  5 4 17 3 16 4 9 7 12 8 ...\n",
      " $ d.time  : int  2029 4 47 133 2029 4 659 142 63 370 ...\n",
      " $ dzgroup : Factor w/ 8 levels \"ARF/MOSF w/Sepsis\",..: 7 3 3 7 1 5 2 2 7 4 ...\n",
      " $ dzclass : Factor w/ 4 levels \"ARF/MOSF\",\"Cancer\",..: 2 4 4 2 1 3 4 4 2 2 ...\n",
      " $ num.co  : int  0 2 2 2 1 1 1 3 2 0 ...\n",
      " $ edu     : int  11 12 12 11 NA 14 14 NA 12 11 ...\n",
      " $ income  : Ord.factor w/ 4 levels \"under $11k\"<\"$11-$25k\"<..: 2 2 1 1 NA NA 3 NA NA 3 ...\n",
      " $ scoma   : int  0 44 0 0 26 55 0 26 26 0 ...\n",
      " $ charges : num  9715 34496 41094 3075 50127 ...\n",
      " $ totcst  : num  NA NA NA NA NA NA NA NA NA NA ...\n",
      " $ avtisst : num  7 29 13 7 18.7 ...\n",
      " $ race    : Factor w/ 6 levels \"\",\"asian\",\"black\",..: 5 6 6 6 6 6 6 6 3 4 ...\n",
      " $ sps     : num  33.9 52.7 20.5 20.1 23.5 ...\n",
      " $ aps     : int  20 74 45 19 30 27 46 53 17 9 ...\n",
      " $ surv2m  : num  0.263 0.001 0.791 0.699 0.635 ...\n",
      " $ surv6m  : num  0.037 0 0.665 0.412 0.533 ...\n",
      " $ hday    : int  1 3 4 1 3 1 1 1 1 1 ...\n",
      " $ diabetes: Factor w/ 2 levels \"0\",\"1\": 1 1 1 1 1 1 1 2 1 1 ...\n",
      " $ dementia: Factor w/ 2 levels \"0\",\"1\": 1 1 1 1 1 1 1 1 2 1 ...\n",
      " $ ca      : Factor w/ 3 levels \"metastatic\",\"no\",..: 1 2 2 1 2 2 2 2 1 1 ...\n",
      " $ prg2m   : num  0.5 0 0.75 0.9 0.9 ...\n",
      " $ prg6m   : num  0.25 0 0.5 0.5 0.9 ...\n",
      " $ dnr     : Factor w/ 4 levels \"\",\"dnr after sadm\",..: 4 1 4 4 4 4 4 4 2 4 ...\n",
      " $ dnrday  : int  5 NA 17 3 16 4 9 7 2 8 ...\n",
      " $ meanbp  : num  97 43 70 75 59 110 78 72 97 84 ...\n",
      " $ wblc    : num  6 17.1 8.5 9.1 13.5 ...\n",
      " $ hrt     : num  69 112 88 88 112 101 120 100 56 94 ...\n",
      " $ resp    : int  22 34 28 32 20 44 28 26 20 20 ...\n",
      " $ temp    : num  36 34.6 37.4 35 37.9 ...\n",
      " $ pafi    : num  388 98 232 NA 173 ...\n",
      " $ alb     : num  1.8 NA NA NA NA ...\n",
      " $ bili    : num  0.2 NA 2.2 NA NA ...\n",
      " $ crea    : num  1.2 5.5 2 0.8 0.8 ...\n",
      " $ sod     : int  141 132 134 139 143 140 132 139 143 139 ...\n",
      " $ ph      : num  7.46 7.25 7.46 NA 7.51 ...\n",
      " $ bun     : num  NA NA NA NA NA NA NA NA NA NA ...\n",
      " $ sfdm2   : Ord.factor w/ 5 levels \"no(M2 and SIP pres)\"<..: NA 5 5 1 1 5 1 NA NA NA ...\n",
      " $ adlsc   : num  7 1 0 0 2 ...\n"
     ]
    }
   ],
   "source": [
    "# Drop variables with high missing values from the list\n",
    "\n",
    "# And 'column_to_drop' is the name of the column you want to drop\n",
    "df_updated_mis <- subset(df_support, select = -c(adlp, adls, urine, totmcst, glucose))\n",
    "\n",
    "# Check structure of dataset to confirm changes\n",
    "str(df_updated_mis)\n"
   ]
  },
  {
   "cell_type": "code",
   "execution_count": 14,
   "metadata": {
    "vscode": {
     "languageId": "r"
    }
   },
   "outputs": [
    {
     "data": {
      "text/html": [
       "922"
      ],
      "text/latex": [
       "922"
      ],
      "text/markdown": [
       "922"
      ],
      "text/plain": [
       "[1] 922"
      ]
     },
     "metadata": {},
     "output_type": "display_data"
    }
   ],
   "source": [
    "# Recheck the total number of complete cases (Rows with no missing values) after dropping variables with high missing values\n",
    "num_complete_cases <- sum(complete.cases(df_updated_mis))\n",
    "num_complete_cases\n"
   ]
  },
  {
   "cell_type": "code",
   "execution_count": 15,
   "metadata": {
    "vscode": {
     "languageId": "r"
    }
   },
   "outputs": [
    {
     "name": "stderr",
     "output_type": "stream",
     "text": [
      "Warning message:\n",
      "\"package 'mice' was built under R version 3.6.3\""
     ]
    },
    {
     "ename": "ERROR",
     "evalue": "Error: package or namespace load failed for 'mice' in loadNamespace(j <- i[[1L]], c(lib.loc, .libPaths()), versionCheck = vI[[j]]):\n there is no package called 'lifecycle'\n",
     "output_type": "error",
     "traceback": [
      "Error: package or namespace load failed for 'mice' in loadNamespace(j <- i[[1L]], c(lib.loc, .libPaths()), versionCheck = vI[[j]]):\n there is no package called 'lifecycle'\nTraceback:\n",
      "1. library(mice)",
      "2. tryCatch({\n .     attr(package, \"LibPath\") <- which.lib.loc\n .     ns <- loadNamespace(package, lib.loc)\n .     env <- attachNamespace(ns, pos = pos, deps, exclude, include.only)\n . }, error = function(e) {\n .     P <- if (!is.null(cc <- conditionCall(e))) \n .         paste(\" in\", deparse(cc)[1L])\n .     else \"\"\n .     msg <- gettextf(\"package or namespace load failed for %s%s:\\n %s\", \n .         sQuote(package), P, conditionMessage(e))\n .     if (logical.return) \n .         message(paste(\"Error:\", msg), domain = NA)\n .     else stop(msg, call. = FALSE, domain = NA)\n . })",
      "3. tryCatchList(expr, classes, parentenv, handlers)",
      "4. tryCatchOne(expr, names, parentenv, handlers[[1L]])",
      "5. value[[3L]](cond)",
      "6. stop(msg, call. = FALSE, domain = NA)"
     ]
    }
   ],
   "source": [
    "# Lets do more indepth missing value analysis using the 'mice' package\n",
    "# install.packages(\"lifecycle\")\n",
    "# install.packages(\"mice\")\n",
    "\n",
    "library(mice)\n",
    "\n",
    "# Plot the missing values using the 'md.pattern' function\n",
    "md.pattern(df_updated_mis)\n"
   ]
  },
  {
   "cell_type": "code",
   "execution_count": null,
   "metadata": {
    "vscode": {
     "languageId": "r"
    }
   },
   "outputs": [],
   "source": []
  }
 ],
 "metadata": {
  "kernelspec": {
   "display_name": "R",
   "language": "R",
   "name": "ir"
  },
  "language_info": {
   "codemirror_mode": "r",
   "file_extension": ".r",
   "mimetype": "text/x-r-source",
   "name": "R",
   "pygments_lexer": "r",
   "version": "3.6.1"
  },
  "polyglot_notebook": {
   "kernelInfo": {
    "defaultKernelName": "csharp",
    "items": [
     {
      "aliases": [],
      "name": "csharp"
     }
    ]
   }
  }
 },
 "nbformat": 4,
 "nbformat_minor": 2
}
