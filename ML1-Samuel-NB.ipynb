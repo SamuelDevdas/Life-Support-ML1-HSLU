{
 "cells": [
  {
   "cell_type": "markdown",
   "metadata": {},
   "source": [
    "### Data Loading and Inspection"
   ]
  },
  {
   "cell_type": "code",
   "execution_count": 745,
   "metadata": {
    "dotnet_interactive": {
     "language": "csharp"
    },
    "notebookRunGroups": {
     "groupValue": ""
    },
    "polyglot_notebook": {
     "kernelName": "csharp"
    },
    "vscode": {
     "languageId": "r"
    }
   },
   "outputs": [],
   "source": [
    "# Load dataset:\n",
    "df_support <- read.csv(\"support2.csv\", header = TRUE, sep = \",\")\n",
    "\n",
    "df_description <- read.csv(\"support-variables-description.csv\", header = TRUE, sep = \",\")\n"
   ]
  },
  {
   "cell_type": "code",
   "execution_count": 746,
   "metadata": {
    "vscode": {
     "languageId": "r"
    }
   },
   "outputs": [
    {
     "data": {
      "text/html": [
       "<table>\n",
       "<thead><tr><th scope=col>age</th><th scope=col>death</th><th scope=col>sex</th><th scope=col>hospdead</th><th scope=col>slos</th><th scope=col>d.time</th><th scope=col>dzgroup</th><th scope=col>dzclass</th><th scope=col>num.co</th><th scope=col>edu</th><th scope=col>...</th><th scope=col>crea</th><th scope=col>sod</th><th scope=col>ph</th><th scope=col>glucose</th><th scope=col>bun</th><th scope=col>urine</th><th scope=col>adlp</th><th scope=col>adls</th><th scope=col>sfdm2</th><th scope=col>adlsc</th></tr></thead>\n",
       "<tbody>\n",
       "\t<tr><td>62.84998          </td><td>0                 </td><td>male              </td><td>0                 </td><td> 5                </td><td>2029              </td><td>Lung Cancer       </td><td>Cancer            </td><td>0                 </td><td>11                </td><td>...               </td><td>1.199951          </td><td>141               </td><td>7.459961          </td><td>NA                </td><td>NA                </td><td>NA                </td><td> 7                </td><td>7                 </td><td>                  </td><td>7                 </td></tr>\n",
       "\t<tr><td>60.33899                                           </td><td>1                                                  </td><td>female                                             </td><td>1                                                  </td><td> 4                                                 </td><td><span style=white-space:pre-wrap>   4</span>       </td><td><span style=white-space:pre-wrap>Cirrhosis  </span></td><td>COPD/CHF/Cirrhosis                                 </td><td>2                                                  </td><td>12                                                 </td><td>...                                                </td><td>5.500000                                           </td><td>132                                                </td><td>7.250000                                           </td><td>NA                                                 </td><td>NA                                                 </td><td>NA                                                 </td><td>NA                                                 </td><td>1                                                  </td><td>&lt;2 mo. follow-up                                </td><td>1                                                  </td></tr>\n",
       "\t<tr><td>52.74698                                           </td><td>1                                                  </td><td>female                                             </td><td>0                                                  </td><td>17                                                 </td><td><span style=white-space:pre-wrap>  47</span>       </td><td><span style=white-space:pre-wrap>Cirrhosis  </span></td><td>COPD/CHF/Cirrhosis                                 </td><td>2                                                  </td><td>12                                                 </td><td>...                                                </td><td>2.000000                                           </td><td>134                                                </td><td>7.459961                                           </td><td>NA                                                 </td><td>NA                                                 </td><td>NA                                                 </td><td> 1                                                 </td><td>0                                                  </td><td>&lt;2 mo. follow-up                                </td><td>0                                                  </td></tr>\n",
       "</tbody>\n",
       "</table>\n"
      ],
      "text/latex": [
       "\\begin{tabular}{r|lllllllllllllllllllllllllllllllllllllllllllllll}\n",
       " age & death & sex & hospdead & slos & d.time & dzgroup & dzclass & num.co & edu & ... & crea & sod & ph & glucose & bun & urine & adlp & adls & sfdm2 & adlsc\\\\\n",
       "\\hline\n",
       "\t 62.84998           & 0                  & male               & 0                  &  5                 & 2029               & Lung Cancer        & Cancer             & 0                  & 11                 & ...                & 1.199951           & 141                & 7.459961           & NA                 & NA                 & NA                 &  7                 & 7                  &                    & 7                 \\\\\n",
       "\t 60.33899           & 1                  & female             & 1                  &  4                 &    4               & Cirrhosis          & COPD/CHF/Cirrhosis & 2                  & 12                 & ...                & 5.500000           & 132                & 7.250000           & NA                 & NA                 & NA                 & NA                 & 1                  & <2 mo. follow-up   & 1                 \\\\\n",
       "\t 52.74698           & 1                  & female             & 0                  & 17                 &   47               & Cirrhosis          & COPD/CHF/Cirrhosis & 2                  & 12                 & ...                & 2.000000           & 134                & 7.459961           & NA                 & NA                 & NA                 &  1                 & 0                  & <2 mo. follow-up   & 0                 \\\\\n",
       "\\end{tabular}\n"
      ],
      "text/markdown": [
       "\n",
       "| age | death | sex | hospdead | slos | d.time | dzgroup | dzclass | num.co | edu | ... | crea | sod | ph | glucose | bun | urine | adlp | adls | sfdm2 | adlsc |\n",
       "|---|---|---|---|---|---|---|---|---|---|---|---|---|---|---|---|---|---|---|---|---|\n",
       "| 62.84998           | 0                  | male               | 0                  |  5                 | 2029               | Lung Cancer        | Cancer             | 0                  | 11                 | ...                | 1.199951           | 141                | 7.459961           | NA                 | NA                 | NA                 |  7                 | 7                  |                    | 7                  |\n",
       "| 60.33899           | 1                  | female             | 1                  |  4                 |    4               | Cirrhosis          | COPD/CHF/Cirrhosis | 2                  | 12                 | ...                | 5.500000           | 132                | 7.250000           | NA                 | NA                 | NA                 | NA                 | 1                  | <2 mo. follow-up   | 1                  |\n",
       "| 52.74698           | 1                  | female             | 0                  | 17                 |   47               | Cirrhosis          | COPD/CHF/Cirrhosis | 2                  | 12                 | ...                | 2.000000           | 134                | 7.459961           | NA                 | NA                 | NA                 |  1                 | 0                  | <2 mo. follow-up   | 0                  |\n",
       "\n"
      ],
      "text/plain": [
       "  age      death sex    hospdead slos d.time dzgroup     dzclass           \n",
       "1 62.84998 0     male   0         5   2029   Lung Cancer Cancer            \n",
       "2 60.33899 1     female 1         4      4   Cirrhosis   COPD/CHF/Cirrhosis\n",
       "3 52.74698 1     female 0        17     47   Cirrhosis   COPD/CHF/Cirrhosis\n",
       "  num.co edu ... crea     sod ph       glucose bun urine adlp adls\n",
       "1 0      11  ... 1.199951 141 7.459961 NA      NA  NA     7   7   \n",
       "2 2      12  ... 5.500000 132 7.250000 NA      NA  NA    NA   1   \n",
       "3 2      12  ... 2.000000 134 7.459961 NA      NA  NA     1   0   \n",
       "  sfdm2            adlsc\n",
       "1                  7    \n",
       "2 <2 mo. follow-up 1    \n",
       "3 <2 mo. follow-up 0    "
      ]
     },
     "metadata": {},
     "output_type": "display_data"
    }
   ],
   "source": [
    "# Inspect dataset\n",
    "head(df_support, 3)\n"
   ]
  },
  {
   "cell_type": "code",
   "execution_count": 747,
   "metadata": {
    "vscode": {
     "languageId": "r"
    }
   },
   "outputs": [
    {
     "name": "stdout",
     "output_type": "stream",
     "text": [
      "'data.frame':\t9105 obs. of  47 variables:\n",
      " $ age     : num  62.8 60.3 52.7 42.4 79.9 ...\n",
      " $ death   : int  0 1 1 1 0 1 1 1 1 1 ...\n",
      " $ sex     : Factor w/ 2 levels \"female\",\"male\": 2 1 1 1 1 2 2 2 2 1 ...\n",
      " $ hospdead: int  0 1 0 0 0 1 0 0 0 0 ...\n",
      " $ slos    : int  5 4 17 3 16 4 9 7 12 8 ...\n",
      " $ d.time  : int  2029 4 47 133 2029 4 659 142 63 370 ...\n",
      " $ dzgroup : Factor w/ 8 levels \"ARF/MOSF w/Sepsis\",..: 7 3 3 7 1 5 2 2 7 4 ...\n",
      " $ dzclass : Factor w/ 4 levels \"ARF/MOSF\",\"Cancer\",..: 2 4 4 2 1 3 4 4 2 2 ...\n",
      " $ num.co  : int  0 2 2 2 1 1 1 3 2 0 ...\n",
      " $ edu     : int  11 12 12 11 NA 14 14 NA 12 11 ...\n",
      " $ income  : Factor w/ 5 levels \"\",\"$11-$25k\",..: 2 2 5 5 1 1 3 1 1 3 ...\n",
      " $ scoma   : int  0 44 0 0 26 55 0 26 26 0 ...\n",
      " $ charges : num  9715 34496 41094 3075 50127 ...\n",
      " $ totcst  : num  NA NA NA NA NA NA NA NA NA NA ...\n",
      " $ totmcst : num  NA NA NA NA NA NA NA NA NA NA ...\n",
      " $ avtisst : num  7 29 13 7 18.7 ...\n",
      " $ race    : Factor w/ 6 levels \"\",\"asian\",\"black\",..: 5 6 6 6 6 6 6 6 3 4 ...\n",
      " $ sps     : num  33.9 52.7 20.5 20.1 23.5 ...\n",
      " $ aps     : int  20 74 45 19 30 27 46 53 17 9 ...\n",
      " $ surv2m  : num  0.263 0.001 0.791 0.699 0.635 ...\n",
      " $ surv6m  : num  0.037 0 0.665 0.412 0.533 ...\n",
      " $ hday    : int  1 3 4 1 3 1 1 1 1 1 ...\n",
      " $ diabetes: int  0 0 0 0 0 0 0 1 0 0 ...\n",
      " $ dementia: int  0 0 0 0 0 0 0 0 1 0 ...\n",
      " $ ca      : Factor w/ 3 levels \"metastatic\",\"no\",..: 1 2 2 1 2 2 2 2 1 1 ...\n",
      " $ prg2m   : num  0.5 0 0.75 0.9 0.9 ...\n",
      " $ prg6m   : num  0.25 0 0.5 0.5 0.9 ...\n",
      " $ dnr     : Factor w/ 4 levels \"\",\"dnr after sadm\",..: 4 1 4 4 4 4 4 4 2 4 ...\n",
      " $ dnrday  : int  5 NA 17 3 16 4 9 7 2 8 ...\n",
      " $ meanbp  : num  97 43 70 75 59 110 78 72 97 84 ...\n",
      " $ wblc    : num  6 17.1 8.5 9.1 13.5 ...\n",
      " $ hrt     : num  69 112 88 88 112 101 120 100 56 94 ...\n",
      " $ resp    : int  22 34 28 32 20 44 28 26 20 20 ...\n",
      " $ temp    : num  36 34.6 37.4 35 37.9 ...\n",
      " $ pafi    : num  388 98 232 NA 173 ...\n",
      " $ alb     : num  1.8 NA NA NA NA ...\n",
      " $ bili    : num  0.2 NA 2.2 NA NA ...\n",
      " $ crea    : num  1.2 5.5 2 0.8 0.8 ...\n",
      " $ sod     : int  141 132 134 139 143 140 132 139 143 139 ...\n",
      " $ ph      : num  7.46 7.25 7.46 NA 7.51 ...\n",
      " $ glucose : num  NA NA NA NA NA NA NA NA NA NA ...\n",
      " $ bun     : num  NA NA NA NA NA NA NA NA NA NA ...\n",
      " $ urine   : num  NA NA NA NA NA NA NA NA NA NA ...\n",
      " $ adlp    : int  7 NA 1 0 NA NA 0 NA NA 0 ...\n",
      " $ adls    : int  7 1 0 0 2 1 1 0 7 NA ...\n",
      " $ sfdm2   : Factor w/ 6 levels \"\",\"<2 mo. follow-up\",..: 1 2 2 5 5 2 5 1 1 1 ...\n",
      " $ adlsc   : num  7 1 0 0 2 ...\n"
     ]
    },
    {
     "data": {
      "text/html": [
       "<ol class=list-inline>\n",
       "\t<li>9105</li>\n",
       "\t<li>47</li>\n",
       "</ol>\n"
      ],
      "text/latex": [
       "\\begin{enumerate*}\n",
       "\\item 9105\n",
       "\\item 47\n",
       "\\end{enumerate*}\n"
      ],
      "text/markdown": [
       "1. 9105\n",
       "2. 47\n",
       "\n",
       "\n"
      ],
      "text/plain": [
       "[1] 9105   47"
      ]
     },
     "metadata": {},
     "output_type": "display_data"
    }
   ],
   "source": [
    "# Check structure of dataset\n",
    "str(df_support)\n",
    "dim(df_support)\n"
   ]
  },
  {
   "cell_type": "markdown",
   "metadata": {},
   "source": [
    "After Inspecting closely, We see that for many categorical variables', the datatype are not 'Factor' eg. $ sex : chr  \"male\" \"female\" etc."
   ]
  },
  {
   "cell_type": "markdown",
   "metadata": {},
   "source": [
    "### Data Cleaning and Preprocessing"
   ]
  },
  {
   "cell_type": "code",
   "execution_count": 748,
   "metadata": {
    "vscode": {
     "languageId": "r"
    }
   },
   "outputs": [
    {
     "name": "stdout",
     "output_type": "stream",
     "text": [
      "List of 14\n",
      " $ death   : int [1:2] 0 1\n",
      " $ sex     : Factor w/ 2 levels \"female\",\"male\": 2 1\n",
      " $ hospdead: int [1:2] 0 1\n",
      " $ dzgroup : Factor w/ 8 levels \"ARF/MOSF w/Sepsis\",..: 7 3 1 5 2 4 6 8\n",
      " $ dzclass : Factor w/ 4 levels \"ARF/MOSF\",\"Cancer\",..: 2 4 1 3\n",
      " $ income  : Factor w/ 5 levels \"\",\"$11-$25k\",..: 2 5 1 3 4\n",
      " $ race    : Factor w/ 6 levels \"\",\"asian\",\"black\",..: 5 6 3 4 2 1\n",
      " $ diabetes: int [1:2] 0 1\n",
      " $ dementia: int [1:2] 0 1\n",
      " $ ca      : Factor w/ 3 levels \"metastatic\",\"no\",..: 1 2 3\n",
      " $ dnr     : Factor w/ 4 levels \"\",\"dnr after sadm\",..: 4 1 2 3\n",
      " $ adlp    : int [1:9] 7 NA 1 0 2 3 5 6 4\n",
      " $ adls    : int [1:9] 7 1 0 2 NA 5 4 6 3\n",
      " $ sfdm2   : Factor w/ 6 levels \"\",\"<2 mo. follow-up\",..: 1 2 5 6 3 4\n"
     ]
    }
   ],
   "source": [
    "# Identify and Group the categorical variables as categories of interest\n",
    "cat_interest <- c(\"death\", \"sex\", \"hospdead\", \"dzgroup\", \"dzclass\", \"income\", \"race\", \"diabetes\", \"dementia\", \"ca\", \"dnr\", \"adlp\", \"adls\", \"sfdm2\")\n",
    "\n",
    "# Apply unique function to validate that the cat_interest have unique categorical values and check their structure\n",
    "unique_values <- sapply(df_support[cat_interest], unique)\n",
    "\n",
    "str(unique_values)\n"
   ]
  },
  {
   "cell_type": "code",
   "execution_count": 749,
   "metadata": {
    "vscode": {
     "languageId": "r"
    }
   },
   "outputs": [],
   "source": [
    "# convert categorical and ordinal variables to factors  # nolint\n",
    "df_support$sex <- factor(df_support$sex)\n",
    "\n",
    "df_support$death <- factor(df_support$death)\n",
    "\n",
    "df_support$hospdead <- factor(df_support$hospdead)\n",
    "\n",
    "df_support$dzgroup <- factor(df_support$dzgroup)\n",
    "\n",
    "df_support$dzclass <- factor(df_support$dzclass)\n",
    "\n",
    "df_support$income <- factor(df_support$income, ordered = TRUE, levels = c(\"under $11k\", \"$11-$25k\", \"$25-$50k\", \">$50k\"))\n",
    "\n",
    "df_support$race <- factor(df_support$race)\n",
    "\n",
    "df_support$diabetes <- factor(df_support$diabetes)\n",
    "\n",
    "df_support$dementia <- factor(df_support$dementia)\n",
    "\n",
    "df_support$ca <- factor(c(\"metastatic\", \"no\", \"yes\"),\n",
    "    levels = c(\"no\", \"yes\", \"metastatic\"),\n",
    "    ordered = TRUE\n",
    ")\n",
    "\n",
    "df_support$adlp <- factor(df_support$adlp, ordered = TRUE, levels = c(1, 2, 3, 4, 5, 6, 7))\n",
    "\n",
    "df_support$adls <- factor(df_support$adls, ordered = TRUE, levels = c(1, 2, 3, 4, 5, 6, 7))\n",
    "\n",
    "df_support$sfdm2 <- factor(df_support$sfdm2, ordered = TRUE, levels = c(\"no(M2 and SIP pres)\", \"adl>=4 (>=5 if sur)\", \"SIP>=30\", \"Coma or Intub\", \"<2 mo. follow-up\"))\n"
   ]
  },
  {
   "cell_type": "code",
   "execution_count": 750,
   "metadata": {
    "vscode": {
     "languageId": "r"
    }
   },
   "outputs": [
    {
     "name": "stdout",
     "output_type": "stream",
     "text": [
      "'data.frame':\t9105 obs. of  14 variables:\n",
      " $ death   : Factor w/ 2 levels \"0\",\"1\": 1 2 2 2 1 2 2 2 2 2 ...\n",
      " $ sex     : Factor w/ 2 levels \"female\",\"male\": 2 1 1 1 1 2 2 2 2 1 ...\n",
      " $ hospdead: Factor w/ 2 levels \"0\",\"1\": 1 2 1 1 1 2 1 1 1 1 ...\n",
      " $ dzgroup : Factor w/ 8 levels \"ARF/MOSF w/Sepsis\",..: 7 3 3 7 1 5 2 2 7 4 ...\n",
      " $ dzclass : Factor w/ 4 levels \"ARF/MOSF\",\"Cancer\",..: 2 4 4 2 1 3 4 4 2 2 ...\n",
      " $ income  : Ord.factor w/ 4 levels \"under $11k\"<\"$11-$25k\"<..: 2 2 1 1 NA NA 3 NA NA 3 ...\n",
      " $ race    : Factor w/ 6 levels \"\",\"asian\",\"black\",..: 5 6 6 6 6 6 6 6 3 4 ...\n",
      " $ diabetes: Factor w/ 2 levels \"0\",\"1\": 1 1 1 1 1 1 1 2 1 1 ...\n",
      " $ dementia: Factor w/ 2 levels \"0\",\"1\": 1 1 1 1 1 1 1 1 2 1 ...\n",
      " $ ca      : Ord.factor w/ 3 levels \"no\"<\"yes\"<\"metastatic\": 3 1 2 3 1 2 3 1 2 3 ...\n",
      " $ dnr     : Factor w/ 4 levels \"\",\"dnr after sadm\",..: 4 1 4 4 4 4 4 4 2 4 ...\n",
      " $ adlp    : Ord.factor w/ 7 levels \"1\"<\"2\"<\"3\"<\"4\"<..: 7 NA 1 NA NA NA NA NA NA NA ...\n",
      " $ adls    : Ord.factor w/ 7 levels \"1\"<\"2\"<\"3\"<\"4\"<..: 7 1 NA NA 2 1 1 NA 7 NA ...\n",
      " $ sfdm2   : Ord.factor w/ 5 levels \"no(M2 and SIP pres)\"<..: NA 5 5 1 1 5 1 NA NA NA ...\n"
     ]
    }
   ],
   "source": [
    "# Check structure of dataset to confirm changes\n",
    "str(df_support[cat_interest])\n"
   ]
  },
  {
   "cell_type": "markdown",
   "metadata": {
    "vscode": {
     "languageId": "r"
    }
   },
   "source": [
    "### MISSING VALUES ANALYSIS"
   ]
  },
  {
   "cell_type": "code",
   "execution_count": 751,
   "metadata": {
    "vscode": {
     "languageId": "r"
    }
   },
   "outputs": [
    {
     "data": {
      "text/html": [
       "106"
      ],
      "text/latex": [
       "106"
      ],
      "text/markdown": [
       "106"
      ],
      "text/plain": [
       "[1] 106"
      ]
     },
     "metadata": {},
     "output_type": "display_data"
    },
    {
     "data": {
      "text/html": [
       "<ol class=list-inline>\n",
       "\t<li>9105</li>\n",
       "\t<li>47</li>\n",
       "</ol>\n"
      ],
      "text/latex": [
       "\\begin{enumerate*}\n",
       "\\item 9105\n",
       "\\item 47\n",
       "\\end{enumerate*}\n"
      ],
      "text/markdown": [
       "1. 9105\n",
       "2. 47\n",
       "\n",
       "\n"
      ],
      "text/plain": [
       "[1] 9105   47"
      ]
     },
     "metadata": {},
     "output_type": "display_data"
    }
   ],
   "source": [
    "# Count the total number of complete cases (Rows with no missing values)\n",
    "num_complete_cases <- sum(complete.cases(df_support))\n",
    "num_complete_cases\n",
    "\n",
    "dim(df_support)\n",
    "\n",
    "# We have only 106 complete cases (rows with no missing values) out of 9105 rows. This is a very small number of complete cases. In order to make the dataset usable, we will have to find identify which variables have the most missing values and drop them from the dataset.\n"
   ]
  },
  {
   "cell_type": "code",
   "execution_count": 752,
   "metadata": {
    "vscode": {
     "languageId": "r"
    }
   },
   "outputs": [
    {
     "data": {
      "text/html": [
       "<dl class=dl-horizontal>\n",
       "\t<dt>adlp</dt>\n",
       "\t\t<dd>7490</dd>\n",
       "\t<dt>adls</dt>\n",
       "\t\t<dd>5975</dd>\n",
       "\t<dt>urine</dt>\n",
       "\t\t<dd>4862</dd>\n",
       "\t<dt>glucose</dt>\n",
       "\t\t<dd>4500</dd>\n",
       "\t<dt>bun</dt>\n",
       "\t\t<dd>4352</dd>\n",
       "\t<dt>totmcst</dt>\n",
       "\t\t<dd>3475</dd>\n",
       "\t<dt>alb</dt>\n",
       "\t\t<dd>3372</dd>\n",
       "\t<dt>income</dt>\n",
       "\t\t<dd>2982</dd>\n",
       "\t<dt>bili</dt>\n",
       "\t\t<dd>2601</dd>\n",
       "\t<dt>pafi</dt>\n",
       "\t\t<dd>2325</dd>\n",
       "\t<dt>ph</dt>\n",
       "\t\t<dd>2284</dd>\n",
       "\t<dt>prg2m</dt>\n",
       "\t\t<dd>1649</dd>\n",
       "\t<dt>edu</dt>\n",
       "\t\t<dd>1634</dd>\n",
       "\t<dt>prg6m</dt>\n",
       "\t\t<dd>1633</dd>\n",
       "\t<dt>sfdm2</dt>\n",
       "\t\t<dd>1400</dd>\n",
       "</dl>\n"
      ],
      "text/latex": [
       "\\begin{description*}\n",
       "\\item[adlp] 7490\n",
       "\\item[adls] 5975\n",
       "\\item[urine] 4862\n",
       "\\item[glucose] 4500\n",
       "\\item[bun] 4352\n",
       "\\item[totmcst] 3475\n",
       "\\item[alb] 3372\n",
       "\\item[income] 2982\n",
       "\\item[bili] 2601\n",
       "\\item[pafi] 2325\n",
       "\\item[ph] 2284\n",
       "\\item[prg2m] 1649\n",
       "\\item[edu] 1634\n",
       "\\item[prg6m] 1633\n",
       "\\item[sfdm2] 1400\n",
       "\\end{description*}\n"
      ],
      "text/markdown": [
       "adlp\n",
       ":   7490adls\n",
       ":   5975urine\n",
       ":   4862glucose\n",
       ":   4500bun\n",
       ":   4352totmcst\n",
       ":   3475alb\n",
       ":   3372income\n",
       ":   2982bili\n",
       ":   2601pafi\n",
       ":   2325ph\n",
       ":   2284prg2m\n",
       ":   1649edu\n",
       ":   1634prg6m\n",
       ":   1633sfdm2\n",
       ":   1400\n",
       "\n"
      ],
      "text/plain": [
       "   adlp    adls   urine glucose     bun totmcst     alb  income    bili    pafi \n",
       "   7490    5975    4862    4500    4352    3475    3372    2982    2601    2325 \n",
       "     ph   prg2m     edu   prg6m   sfdm2 \n",
       "   2284    1649    1634    1633    1400 "
      ]
     },
     "metadata": {},
     "output_type": "display_data"
    }
   ],
   "source": [
    "# Check for Missing Values in each column and sort in descending order\n",
    "\n",
    "na_counts_col <- colSums(is.na(df_support))\n",
    "\n",
    "na_counts_col <- sort(na_counts_col, decreasing = TRUE)\n",
    "\n",
    "na_counts_col[1:15]\n"
   ]
  },
  {
   "cell_type": "markdown",
   "metadata": {},
   "source": [
    "Variables with the most missing values are:\n",
    "1. adlp : 7490 (Too many missing values, and highly correlated with other 'Activities of Daily Living Index' variable (adlsc) \n",
    "2. adls : 7490 (same as above)\n",
    "3. urine : 4862 (To be imputed)\n",
    "4. glucose : 4500\n",
    "5. bun : 4352 (To be imputed)\n",
    "6. totmcst (Total micro cost): 3475 (also, Highly correlated with totcst: total cost)\n",
    "\n",
    "\n",
    "To start, We will drop the variables with more than 50% missing values. These are:\n",
    "1. adlp, adls, totmcst, glucose.\n",
    "\n"
   ]
  },
  {
   "cell_type": "code",
   "execution_count": 753,
   "metadata": {
    "vscode": {
     "languageId": "r"
    }
   },
   "outputs": [],
   "source": [
    "# Drop variables with high missing values from the list\n",
    "\n",
    "# And 'column_to_drop' is the name of the column you want to drop\n",
    "df_updated_mis <- subset(df_support, select = -c(adlp, adls, totmcst, glucose))\n"
   ]
  },
  {
   "cell_type": "code",
   "execution_count": 754,
   "metadata": {
    "vscode": {
     "languageId": "r"
    }
   },
   "outputs": [
    {
     "data": {
      "text/html": [
       "857"
      ],
      "text/latex": [
       "857"
      ],
      "text/markdown": [
       "857"
      ],
      "text/plain": [
       "[1] 857"
      ]
     },
     "metadata": {},
     "output_type": "display_data"
    }
   ],
   "source": [
    "# Recheck the total number of complete cases (Rows with no missing values) after dropping variables with high missing values\n",
    "num_complete_cases <- sum(complete.cases(df_updated_mis))\n",
    "num_complete_cases\n"
   ]
  },
  {
   "cell_type": "markdown",
   "metadata": {},
   "source": [
    "Still, we have only 857 complete cases. \n",
    "\n",
    "To determine further, which variables to drop, we will create a correlation matrix and identify the variables with high correlation."
   ]
  },
  {
   "cell_type": "code",
   "execution_count": 755,
   "metadata": {
    "vscode": {
     "languageId": "r"
    }
   },
   "outputs": [
    {
     "name": "stdout",
     "output_type": "stream",
     "text": [
      "       Var1    Var2      value\n",
      "240 totmcst  totcst  0.9689325\n",
      "410  surv6m  surv2m  0.9603923\n",
      "51   dnrday    slos  0.8952043\n",
      "512   prg6m   prg2m  0.8948647\n",
      "41   totcst    slos  0.8333012\n",
      "206  totcst charges  0.8328858\n",
      "42  totmcst    slos  0.8173748\n",
      "207 totmcst charges  0.8080156\n",
      "249  dnrday  totcst  0.7836419\n",
      "282  dnrday totmcst  0.7706970\n",
      "342     aps     sps  0.7701623\n",
      "343  surv2m     sps -0.7460156\n",
      "889     bun    crea  0.7023728\n",
      "344  surv6m     sps -0.6695264\n",
      "40  charges    slos  0.6188178\n",
      "376  surv2m     aps -0.5969726\n",
      "309     aps avtisst  0.5939339\n",
      "216  dnrday charges  0.5926286\n",
      "274 avtisst totmcst  0.5624625\n",
      "213    hday charges  0.5623091\n",
      "412   prg2m  surv2m  0.5547620\n",
      "178  surv2m   scoma -0.5482460\n",
      "241 avtisst  totcst  0.5477100\n",
      "446   prg6m  surv6m  0.5396185\n",
      "308     sps avtisst  0.5265082\n",
      "445   prg2m  surv6m  0.5264234\n",
      "413   prg6m  surv2m  0.5120520\n",
      "377  surv6m     aps -0.4926692\n",
      "208 avtisst charges  0.4907841\n",
      "83    prg6m  d.time  0.4863762\n",
      "80   surv6m  d.time  0.4683815\n",
      "246    hday  totcst  0.4594989\n",
      "179  surv6m   scoma -0.4592470\n",
      "279    hday totmcst  0.4374050\n",
      "82    prg2m  d.time  0.4325208\n",
      "379   prg2m     aps -0.4275102\n",
      "79   surv2m  d.time  0.4247914\n",
      "310  surv2m avtisst -0.4200840\n",
      "346   prg2m     sps -0.4146669\n",
      "315  dnrday avtisst  0.3803679\n"
     ]
    }
   ],
   "source": [
    "# Create df with only numeric columns for creating a correlation matrix\n",
    "\n",
    "numeric_columns <- sapply(df_support, is.numeric)\n",
    "numeric_df <- df_support[numeric_columns]\n",
    "\n",
    "# Create a corrplot to visualize the correlation between the variables\n",
    "# install.packages(\"corrplot\")\n",
    "library(corrplot)\n",
    "library(reshape2)\n",
    "\n",
    "# Assuming df is your data frame\n",
    "correlation_matrix <- cor(numeric_df, use = \"complete.obs\")\n",
    "\n",
    "# Flatten and filter\n",
    "corr_melted <- melt(correlation_matrix)\n",
    "\n",
    "# Remove self-correlations and duplicates\n",
    "corr_melted <- subset(corr_melted, Var1 != Var2)\n",
    "corr_melted <- corr_melted[!duplicated(t(apply(corr_melted[, 1:2], 1, sort))), ]\n",
    "\n",
    "# Sort by absolute correlation value\n",
    "corr_melted <- corr_melted[order(-abs(corr_melted$value)), ]\n",
    "top_correlations <- head(corr_melted, 40)\n",
    "\n",
    "print(top_correlations)\n"
   ]
  },
  {
   "cell_type": "markdown",
   "metadata": {},
   "source": [
    "We find that the following variables are highly correlated with other variables:\n",
    "1. sur6m : surv2m (model predicted 6 months and 2 months survival estimates for patient ) - (Cor = 0.96)\n",
    "2. totcst : charges (cost to charge ratio : total charges) - (Cor = 0.83)\n",
    "3. aps (APACHE III day 3 physiology score : SUPPORT physiology score) : sps (predicted SUPPORT physiology score on day 3 )  - (Cor = 0.77)\n",
    "4. aps : avtisst (Average TISS score - quantifies type and number of intensive care treatments. ) - (Cor = 0.59)\n",
    "5. sfdm2 (Level of functional disability of the patient in a 1-5 scale. (Naturally correlated with other physiological scores ))\n",
    "\n",
    "Identify out which other variables are also Survival estimates and check their respective number of missing values.\n",
    "1. prg2m : Physician’s 2-month survival estimate for patient.\n",
    "2. prg6m : Physician’s 6-month survival estimate for patient.\n",
    "3. prg2m : surv2m - (Cor = 0.55)\n",
    "4. prg6m : surv6m - (Cor = 0.53)\n"
   ]
  },
  {
   "cell_type": "code",
   "execution_count": 756,
   "metadata": {
    "vscode": {
     "languageId": "r"
    }
   },
   "outputs": [
    {
     "data": {
      "text/html": [
       "<dl class=dl-horizontal>\n",
       "\t<dt>prg2m</dt>\n",
       "\t\t<dd>1649</dd>\n",
       "\t<dt>prg6m</dt>\n",
       "\t\t<dd>1633</dd>\n",
       "\t<dt>sfdm2</dt>\n",
       "\t\t<dd>1400</dd>\n",
       "\t<dt>totcst</dt>\n",
       "\t\t<dd>888</dd>\n",
       "\t<dt>charges</dt>\n",
       "\t\t<dd>172</dd>\n",
       "\t<dt>avtisst</dt>\n",
       "\t\t<dd>82</dd>\n",
       "\t<dt>surv2m</dt>\n",
       "\t\t<dd>1</dd>\n",
       "\t<dt>surv6m</dt>\n",
       "\t\t<dd>1</dd>\n",
       "\t<dt>aps</dt>\n",
       "\t\t<dd>1</dd>\n",
       "\t<dt>sps</dt>\n",
       "\t\t<dd>1</dd>\n",
       "</dl>\n"
      ],
      "text/latex": [
       "\\begin{description*}\n",
       "\\item[prg2m] 1649\n",
       "\\item[prg6m] 1633\n",
       "\\item[sfdm2] 1400\n",
       "\\item[totcst] 888\n",
       "\\item[charges] 172\n",
       "\\item[avtisst] 82\n",
       "\\item[surv2m] 1\n",
       "\\item[surv6m] 1\n",
       "\\item[aps] 1\n",
       "\\item[sps] 1\n",
       "\\end{description*}\n"
      ],
      "text/markdown": [
       "prg2m\n",
       ":   1649prg6m\n",
       ":   1633sfdm2\n",
       ":   1400totcst\n",
       ":   888charges\n",
       ":   172avtisst\n",
       ":   82surv2m\n",
       ":   1surv6m\n",
       ":   1aps\n",
       ":   1sps\n",
       ":   1\n",
       "\n"
      ],
      "text/plain": [
       "  prg2m   prg6m   sfdm2  totcst charges avtisst  surv2m  surv6m     aps     sps \n",
       "   1649    1633    1400     888     172      82       1       1       1       1 "
      ]
     },
     "metadata": {},
     "output_type": "display_data"
    }
   ],
   "source": [
    "# Missing values for prg2m, prg6m, surv2m, surv6m, totcst, charges, aps, sps, avtisst, sfdm2\n",
    "# Check for Missing Values in each column and sort in descending order\n",
    "\n",
    "na_counts_cor <- colSums(is.na(df_support[c(\"prg2m\", \"prg6m\", \"surv2m\", \"surv6m\", \"totcst\", \"charges\", \"aps\", \"sps\", \"avtisst\", \"sfdm2\")]))\n",
    "\n",
    "na_counts_cor <- sort(na_counts_cor, decreasing = TRUE)\n",
    "\n",
    "na_counts_cor\n"
   ]
  },
  {
   "cell_type": "code",
   "execution_count": 757,
   "metadata": {
    "vscode": {
     "languageId": "r"
    }
   },
   "outputs": [
    {
     "data": {
      "text/html": [
       "1213"
      ],
      "text/latex": [
       "1213"
      ],
      "text/markdown": [
       "1213"
      ],
      "text/plain": [
       "[1] 1213"
      ]
     },
     "metadata": {},
     "output_type": "display_data"
    }
   ],
   "source": [
    "# We drop the 'redundant' and with 'high missing values' variables ie. prg2m, prg6m and surv6m, totcst, sps, avtisst\n",
    "# And 'column_to_drop' is the name of the column you want to drop\n",
    "\n",
    "df_updated_mis <- subset(df_updated_mis, select = -c(prg2m, prg6m, surv6m, totcst, sps, avtisst, sfdm2))\n",
    "\n",
    "# Check complete cases\n",
    "num_complete_cases <- sum(complete.cases(df_updated_mis))\n",
    "num_complete_cases\n"
   ]
  },
  {
   "cell_type": "code",
   "execution_count": 758,
   "metadata": {
    "vscode": {
     "languageId": "r"
    }
   },
   "outputs": [
    {
     "data": {
      "text/html": [
       "<dl class=dl-horizontal>\n",
       "\t<dt>urine</dt>\n",
       "\t\t<dd>4862</dd>\n",
       "\t<dt>bun</dt>\n",
       "\t\t<dd>4352</dd>\n",
       "\t<dt>alb</dt>\n",
       "\t\t<dd>3372</dd>\n",
       "\t<dt>income</dt>\n",
       "\t\t<dd>2982</dd>\n",
       "\t<dt>bili</dt>\n",
       "\t\t<dd>2601</dd>\n",
       "\t<dt>pafi</dt>\n",
       "\t\t<dd>2325</dd>\n",
       "\t<dt>ph</dt>\n",
       "\t\t<dd>2284</dd>\n",
       "\t<dt>edu</dt>\n",
       "\t\t<dd>1634</dd>\n",
       "\t<dt>wblc</dt>\n",
       "\t\t<dd>212</dd>\n",
       "\t<dt>charges</dt>\n",
       "\t\t<dd>172</dd>\n",
       "\t<dt>crea</dt>\n",
       "\t\t<dd>67</dd>\n",
       "\t<dt>dnrday</dt>\n",
       "\t\t<dd>30</dd>\n",
       "\t<dt>scoma</dt>\n",
       "\t\t<dd>1</dd>\n",
       "\t<dt>aps</dt>\n",
       "\t\t<dd>1</dd>\n",
       "\t<dt>surv2m</dt>\n",
       "\t\t<dd>1</dd>\n",
       "</dl>\n"
      ],
      "text/latex": [
       "\\begin{description*}\n",
       "\\item[urine] 4862\n",
       "\\item[bun] 4352\n",
       "\\item[alb] 3372\n",
       "\\item[income] 2982\n",
       "\\item[bili] 2601\n",
       "\\item[pafi] 2325\n",
       "\\item[ph] 2284\n",
       "\\item[edu] 1634\n",
       "\\item[wblc] 212\n",
       "\\item[charges] 172\n",
       "\\item[crea] 67\n",
       "\\item[dnrday] 30\n",
       "\\item[scoma] 1\n",
       "\\item[aps] 1\n",
       "\\item[surv2m] 1\n",
       "\\end{description*}\n"
      ],
      "text/markdown": [
       "urine\n",
       ":   4862bun\n",
       ":   4352alb\n",
       ":   3372income\n",
       ":   2982bili\n",
       ":   2601pafi\n",
       ":   2325ph\n",
       ":   2284edu\n",
       ":   1634wblc\n",
       ":   212charges\n",
       ":   172crea\n",
       ":   67dnrday\n",
       ":   30scoma\n",
       ":   1aps\n",
       ":   1surv2m\n",
       ":   1\n",
       "\n"
      ],
      "text/plain": [
       "  urine     bun     alb  income    bili    pafi      ph     edu    wblc charges \n",
       "   4862    4352    3372    2982    2601    2325    2284    1634     212     172 \n",
       "   crea  dnrday   scoma     aps  surv2m \n",
       "     67      30       1       1       1 "
      ]
     },
     "metadata": {},
     "output_type": "display_data"
    }
   ],
   "source": [
    "# Check for Missing Values in df_updated_mis and sort in descending order\n",
    "\n",
    "na_counts_col <- colSums(is.na(df_updated_mis))\n",
    "\n",
    "na_counts_col <- sort(na_counts_col, decreasing = TRUE)\n",
    "\n",
    "na_counts_col[1:15]\n"
   ]
  },
  {
   "cell_type": "markdown",
   "metadata": {},
   "source": [
    "### Imputing Missing Values\n",
    "\n",
    "According to the HBiostat Repository (https://hbiostat.org/data/repo/supportdesc, Professor Frank Harrell) the following default values have been found to be useful in imputing missing baseline physiologic data:\n",
    "Baseline Variable\tNormal Fill-in Value\n",
    "- Serum albumin (alb)\t3.5\n",
    "- PaO2/FiO2 ratio (pafi) \t333.3\n",
    "- Bilirubin (bili)\t1.01\n",
    "- Creatinine (crea)\t1.01\n",
    "- bun\t6.51\n",
    "- White blood count (wblc)\t9\n",
    "- Urine output (urine)\t2502\n",
    "\n",
    "Impute other variables:\n",
    "- income\n",
    "- edu\n",
    "- ph\n",
    "\n",
    "We will drop the 'rows' with missing values for the following variables:\n",
    "1. charges\n",
    "2. dnrday\n",
    "3. scoma\n",
    "4. aps\n",
    "5. surv2m\n",
    "6. meanbp\n",
    "7. hrt\n"
   ]
  },
  {
   "cell_type": "code",
   "execution_count": 759,
   "metadata": {
    "vscode": {
     "languageId": "r"
    }
   },
   "outputs": [],
   "source": [
    "# Create a named vector with imputation values for each variable\n",
    "impute_values <- c(\n",
    "    alb = 3.5, pafi = 333.3, bili = 1.01,\n",
    "    crea = 1.01, bun = 6.51, wblc = 9.0, urine = 2502\n",
    ")\n",
    "\n",
    "# Loop through the vector to impute values\n",
    "for (var in names(impute_values)) {\n",
    "    df_updated_mis[[var]][is.na(df_updated_mis[[var]])] <- impute_values[var]\n",
    "}\n",
    "\n",
    "\n",
    "# Impute the variable \"ph\" with mean value\n",
    "# Calculate the mean for the ph Column\n",
    "mean_ph <- mean(df_updated_mis$ph, na.rm = TRUE)\n",
    "\n",
    "# Impute missing values with the mean value\n",
    "df_updated_mis$ph[is.na(df_updated_mis$ph)] <- mean_ph\n",
    "\n",
    "# Impute the variable \"income\" with the mode value\n",
    "# Check the frequency of each category in the variable \"income\"\n",
    "# Define a Function to Calculate the Mode\n",
    "\n",
    "getMode <- function(v) {\n",
    "    uniqv <- unique(na.omit(v))\n",
    "    uniqv[which.max(tabulate(match(v, uniqv)))]\n",
    "}\n",
    "\n",
    "# Calculate the Mode for the Income Column\n",
    "mode_value <- getMode(df_updated_mis$income)\n",
    "\n",
    "# Impute missing values with the mode value\n",
    "df_updated_mis$income[is.na(df_updated_mis$income)] <- mode_value\n",
    "\n",
    "# Impute the variable \"edu\" with the mode value\n",
    "# Calculate the Mode for the edu Column\n",
    "mode_value <- getMode(df_updated_mis$edu)\n",
    "\n",
    "# Impute missing values with the mode value\n",
    "df_updated_mis$edu[is.na(df_updated_mis$edu)] <- mode_value\n"
   ]
  },
  {
   "cell_type": "code",
   "execution_count": 760,
   "metadata": {
    "vscode": {
     "languageId": "r"
    }
   },
   "outputs": [
    {
     "data": {
      "text/html": [
       "<dl class=dl-horizontal>\n",
       "\t<dt>charges</dt>\n",
       "\t\t<dd>172</dd>\n",
       "\t<dt>dnrday</dt>\n",
       "\t\t<dd>30</dd>\n",
       "\t<dt>scoma</dt>\n",
       "\t\t<dd>1</dd>\n",
       "\t<dt>aps</dt>\n",
       "\t\t<dd>1</dd>\n",
       "\t<dt>surv2m</dt>\n",
       "\t\t<dd>1</dd>\n",
       "\t<dt>meanbp</dt>\n",
       "\t\t<dd>1</dd>\n",
       "\t<dt>hrt</dt>\n",
       "\t\t<dd>1</dd>\n",
       "\t<dt>resp</dt>\n",
       "\t\t<dd>1</dd>\n",
       "\t<dt>temp</dt>\n",
       "\t\t<dd>1</dd>\n",
       "\t<dt>sod</dt>\n",
       "\t\t<dd>1</dd>\n",
       "\t<dt>age</dt>\n",
       "\t\t<dd>0</dd>\n",
       "\t<dt>death</dt>\n",
       "\t\t<dd>0</dd>\n",
       "\t<dt>sex</dt>\n",
       "\t\t<dd>0</dd>\n",
       "\t<dt>hospdead</dt>\n",
       "\t\t<dd>0</dd>\n",
       "\t<dt>slos</dt>\n",
       "\t\t<dd>0</dd>\n",
       "</dl>\n"
      ],
      "text/latex": [
       "\\begin{description*}\n",
       "\\item[charges] 172\n",
       "\\item[dnrday] 30\n",
       "\\item[scoma] 1\n",
       "\\item[aps] 1\n",
       "\\item[surv2m] 1\n",
       "\\item[meanbp] 1\n",
       "\\item[hrt] 1\n",
       "\\item[resp] 1\n",
       "\\item[temp] 1\n",
       "\\item[sod] 1\n",
       "\\item[age] 0\n",
       "\\item[death] 0\n",
       "\\item[sex] 0\n",
       "\\item[hospdead] 0\n",
       "\\item[slos] 0\n",
       "\\end{description*}\n"
      ],
      "text/markdown": [
       "charges\n",
       ":   172dnrday\n",
       ":   30scoma\n",
       ":   1aps\n",
       ":   1surv2m\n",
       ":   1meanbp\n",
       ":   1hrt\n",
       ":   1resp\n",
       ":   1temp\n",
       ":   1sod\n",
       ":   1age\n",
       ":   0death\n",
       ":   0sex\n",
       ":   0hospdead\n",
       ":   0slos\n",
       ":   0\n",
       "\n"
      ],
      "text/plain": [
       " charges   dnrday    scoma      aps   surv2m   meanbp      hrt     resp \n",
       "     172       30        1        1        1        1        1        1 \n",
       "    temp      sod      age    death      sex hospdead     slos \n",
       "       1        1        0        0        0        0        0 "
      ]
     },
     "metadata": {},
     "output_type": "display_data"
    }
   ],
   "source": [
    "# Check for Missing Values in df_updated_mis and sort in descending order\n",
    "\n",
    "na_counts_col <- colSums(is.na(df_updated_mis))\n",
    "\n",
    "na_counts_col <- sort(na_counts_col, decreasing = TRUE)\n",
    "\n",
    "na_counts_col[1:15]\n"
   ]
  },
  {
   "cell_type": "markdown",
   "metadata": {},
   "source": [
    "### Drop all the remaining rows with missing values."
   ]
  },
  {
   "cell_type": "code",
   "execution_count": 761,
   "metadata": {
    "vscode": {
     "languageId": "r"
    }
   },
   "outputs": [
    {
     "data": {
      "text/html": [
       "0"
      ],
      "text/latex": [
       "0"
      ],
      "text/markdown": [
       "0"
      ],
      "text/plain": [
       "[1] 0"
      ]
     },
     "metadata": {},
     "output_type": "display_data"
    },
    {
     "data": {
      "text/html": [
       "<ol class=list-inline>\n",
       "\t<li>8928</li>\n",
       "\t<li>36</li>\n",
       "</ol>\n"
      ],
      "text/latex": [
       "\\begin{enumerate*}\n",
       "\\item 8928\n",
       "\\item 36\n",
       "\\end{enumerate*}\n"
      ],
      "text/markdown": [
       "1. 8928\n",
       "2. 36\n",
       "\n",
       "\n"
      ],
      "text/plain": [
       "[1] 8928   36"
      ]
     },
     "metadata": {},
     "output_type": "display_data"
    }
   ],
   "source": [
    "# Subset all rows with complete cases\n",
    "\n",
    "final_df <- df_updated_mis[complete.cases(df_updated_mis), ]\n",
    "\n",
    "sum(is.na(final_df))\n",
    "\n",
    "dim(final_df)\n"
   ]
  }
 ],
 "metadata": {
  "kernelspec": {
   "display_name": "R",
   "language": "R",
   "name": "ir"
  },
  "language_info": {
   "codemirror_mode": "r",
   "file_extension": ".r",
   "mimetype": "text/x-r-source",
   "name": "R",
   "pygments_lexer": "r",
   "version": "3.6.1"
  },
  "polyglot_notebook": {
   "kernelInfo": {
    "defaultKernelName": "csharp",
    "items": [
     {
      "aliases": [],
      "name": "csharp"
     }
    ]
   }
  }
 },
 "nbformat": 4,
 "nbformat_minor": 2
}
